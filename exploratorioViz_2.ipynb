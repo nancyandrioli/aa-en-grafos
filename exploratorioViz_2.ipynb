{
  "nbformat": 4,
  "nbformat_minor": 0,
  "metadata": {
    "colab": {
      "name": "exploratorioViz_2.ipynb",
      "provenance": [],
      "collapsed_sections": [],
      "include_colab_link": true
    },
    "kernelspec": {
      "name": "python3",
      "display_name": "Python 3"
    },
    "language_info": {
      "name": "python"
    }
  },
  "cells": [
    {
      "cell_type": "markdown",
      "metadata": {
        "id": "view-in-github",
        "colab_type": "text"
      },
      "source": [
        "<a href=\"https://colab.research.google.com/github/nancyandrioli/aa-en-grafos/blob/main/exploratorioViz_2.ipynb\" target=\"_parent\"><img src=\"https://colab.research.google.com/assets/colab-badge.svg\" alt=\"Open In Colab\"/></a>"
      ]
    },
    {
      "cell_type": "code",
      "metadata": {
        "colab": {
          "base_uri": "https://localhost:8080/",
          "height": 324
        },
        "id": "ihVEUOojbQMy",
        "outputId": "f91d227e-8cb1-4664-92c2-ad77a454f352"
      },
      "source": [
        "# ! pip install pandas --upgrade\n",
        "# !pip install --upgrade pandas==1.2"
      ],
      "execution_count": null,
      "outputs": [
        {
          "output_type": "stream",
          "text": [
            "Collecting pandas==1.2\n",
            "\u001b[?25l  Downloading https://files.pythonhosted.org/packages/ff/bd/fb376f9fbad92b9a6efdbb30ff32c80f3cba1368689309cbb5566364af5c/pandas-1.2.0-cp37-cp37m-manylinux1_x86_64.whl (9.9MB)\n",
            "\u001b[K     |████████████████████████████████| 9.9MB 5.4MB/s \n",
            "\u001b[?25hRequirement already satisfied, skipping upgrade: python-dateutil>=2.7.3 in /usr/local/lib/python3.7/dist-packages (from pandas==1.2) (2.8.1)\n",
            "Requirement already satisfied, skipping upgrade: numpy>=1.16.5 in /usr/local/lib/python3.7/dist-packages (from pandas==1.2) (1.19.5)\n",
            "Requirement already satisfied, skipping upgrade: pytz>=2017.3 in /usr/local/lib/python3.7/dist-packages (from pandas==1.2) (2018.9)\n",
            "Requirement already satisfied, skipping upgrade: six>=1.5 in /usr/local/lib/python3.7/dist-packages (from python-dateutil>=2.7.3->pandas==1.2) (1.15.0)\n",
            "\u001b[31mERROR: google-colab 1.0.0 has requirement pandas~=1.1.0; python_version >= \"3.0\", but you'll have pandas 1.2.0 which is incompatible.\u001b[0m\n",
            "Installing collected packages: pandas\n",
            "  Found existing installation: pandas 1.1.5\n",
            "    Uninstalling pandas-1.1.5:\n",
            "      Successfully uninstalled pandas-1.1.5\n",
            "Successfully installed pandas-1.2.0\n"
          ],
          "name": "stdout"
        },
        {
          "output_type": "display_data",
          "data": {
            "application/vnd.colab-display-data+json": {
              "pip_warning": {
                "packages": [
                  "pandas"
                ]
              }
            }
          },
          "metadata": {
            "tags": []
          }
        }
      ]
    },
    {
      "cell_type": "code",
      "metadata": {
        "id": "ktTqjuOlM16K",
        "colab": {
          "base_uri": "https://localhost:8080/"
        },
        "outputId": "1ecfd863-b0a5-43be-c818-dfa698f06109"
      },
      "source": [
        "import os\n",
        "import numpy as np\n",
        "import pandas as pd\n",
        "import matplotlib.pyplot as plt\n",
        "pd.set_option('display.max_colwidth', None)\n",
        "\n",
        "print(pd.__version__)"
      ],
      "execution_count": null,
      "outputs": [
        {
          "output_type": "stream",
          "text": [
            "1.2.0\n"
          ],
          "name": "stdout"
        }
      ]
    },
    {
      "cell_type": "code",
      "metadata": {
        "colab": {
          "base_uri": "https://localhost:8080/",
          "height": 35
        },
        "id": "WXGUq9yDhLQX",
        "outputId": "c8a37aad-79d8-4bbc-ab75-ae04266fb2fc"
      },
      "source": [
        "os.getcwd()"
      ],
      "execution_count": null,
      "outputs": [
        {
          "output_type": "execute_result",
          "data": {
            "application/vnd.google.colaboratory.intrinsic+json": {
              "type": "string"
            },
            "text/plain": [
              "'/content'"
            ]
          },
          "metadata": {
            "tags": []
          },
          "execution_count": 119
        }
      ]
    },
    {
      "cell_type": "code",
      "metadata": {
        "colab": {
          "base_uri": "https://localhost:8080/"
        },
        "id": "hgsq_j1KMsfB",
        "outputId": "2f20eb1b-e79b-437a-d33d-de68646d15ee"
      },
      "source": [
        "! curl -L 'https://github.com/vast-challenge/2021-sample-data/blob/main/MC3.zip?raw=true' -o MC3.zip\n",
        "! echo 'n' | unzip MC3.zip\n",
        "csv_files_list = [\"MC3/csv-1700-1830.csv\", \"MC3/csv-1831-2000.csv\", \"MC3/csv-2001-2131.csv\"]\n",
        "csv_files_list"
      ],
      "execution_count": null,
      "outputs": [
        {
          "output_type": "stream",
          "text": [
            "  % Total    % Received % Xferd  Average Speed   Time    Time     Time  Current\n",
            "                                 Dload  Upload   Total   Spent    Left  Speed\n",
            "100   133  100   133    0     0    517      0 --:--:-- --:--:-- --:--:--   517\n",
            "100   144  100   144    0     0    342      0 --:--:-- --:--:-- --:--:--   342\n",
            "100  862k  100  862k    0     0  1157k      0 --:--:-- --:--:-- --:--:-- 1157k\n",
            "Archive:  MC3.zip\n",
            "replace MC3/10 year historical document.pdf? [y]es, [n]o, [A]ll, [N]one, [r]ename: replace MC3/AnswerSheet/~$ST Challenge 2021 MC3 Answer Sheet.htm? [y]es, [n]o, [A]ll, [N]one, [r]ename:  NULL\n",
            "(EOF or read error, treating as \"[N]one\" ...)\n"
          ],
          "name": "stdout"
        },
        {
          "output_type": "execute_result",
          "data": {
            "text/plain": [
              "['MC3/csv-1700-1830.csv', 'MC3/csv-1831-2000.csv', 'MC3/csv-2001-2131.csv']"
            ]
          },
          "metadata": {
            "tags": []
          },
          "execution_count": 111
        }
      ]
    },
    {
      "cell_type": "code",
      "metadata": {
        "colab": {
          "base_uri": "https://localhost:8080/"
        },
        "id": "3yLo7iJl3FMo",
        "outputId": "7bcc6c0e-dc5e-4a6e-a91e-c9e361e2ab94"
      },
      "source": [
        "csv_files_list"
      ],
      "execution_count": null,
      "outputs": [
        {
          "output_type": "execute_result",
          "data": {
            "text/plain": [
              "['MC3/csv-1700-1830.csv', 'MC3/csv-1831-2000.csv', 'MC3/csv-2001-2131.csv']"
            ]
          },
          "metadata": {
            "tags": []
          },
          "execution_count": 112
        }
      ]
    },
    {
      "cell_type": "code",
      "metadata": {
        "id": "qUrT4pQFM8M4"
      },
      "source": [
        "df_csv_files = (pd.read_csv(f, encoding='ISO-8859-1') for f in csv_files_list)\n",
        "df  = pd.concat(df_csv_files, ignore_index=True)"
      ],
      "execution_count": null,
      "outputs": []
    },
    {
      "cell_type": "code",
      "metadata": {
        "colab": {
          "base_uri": "https://localhost:8080/",
          "height": 142
        },
        "id": "kc58_cgMNAjI",
        "outputId": "8f25ee50-045f-471c-aaea-205f8645ea51"
      },
      "source": [
        "df.head(3)"
      ],
      "execution_count": null,
      "outputs": [
        {
          "output_type": "execute_result",
          "data": {
            "text/html": [
              "<div>\n",
              "<style scoped>\n",
              "    .dataframe tbody tr th:only-of-type {\n",
              "        vertical-align: middle;\n",
              "    }\n",
              "\n",
              "    .dataframe tbody tr th {\n",
              "        vertical-align: top;\n",
              "    }\n",
              "\n",
              "    .dataframe thead th {\n",
              "        text-align: right;\n",
              "    }\n",
              "</style>\n",
              "<table border=\"1\" class=\"dataframe\">\n",
              "  <thead>\n",
              "    <tr style=\"text-align: right;\">\n",
              "      <th></th>\n",
              "      <th>type</th>\n",
              "      <th>date(yyyyMMddHHmmss)</th>\n",
              "      <th>author</th>\n",
              "      <th>message</th>\n",
              "      <th>latitude</th>\n",
              "      <th>longitude</th>\n",
              "      <th>location</th>\n",
              "    </tr>\n",
              "  </thead>\n",
              "  <tbody>\n",
              "    <tr>\n",
              "      <th>0</th>\n",
              "      <td>mbdata</td>\n",
              "      <td>20140123170000</td>\n",
              "      <td>POK</td>\n",
              "      <td>Follow us @POK-Kronos</td>\n",
              "      <td>NaN</td>\n",
              "      <td>NaN</td>\n",
              "      <td>NaN</td>\n",
              "    </tr>\n",
              "    <tr>\n",
              "      <th>1</th>\n",
              "      <td>mbdata</td>\n",
              "      <td>20140123170000</td>\n",
              "      <td>maha_Homeland</td>\n",
              "      <td>Don't miss a moment!  Follow our live coverage of the POK Rally in the Park!</td>\n",
              "      <td>NaN</td>\n",
              "      <td>NaN</td>\n",
              "      <td>NaN</td>\n",
              "    </tr>\n",
              "    <tr>\n",
              "      <th>2</th>\n",
              "      <td>mbdata</td>\n",
              "      <td>20140123170000</td>\n",
              "      <td>Viktor-E</td>\n",
              "      <td>Come join us in the Park! Music tonight at Abila City Park!</td>\n",
              "      <td>NaN</td>\n",
              "      <td>NaN</td>\n",
              "      <td>NaN</td>\n",
              "    </tr>\n",
              "  </tbody>\n",
              "</table>\n",
              "</div>"
            ],
            "text/plain": [
              "     type  date(yyyyMMddHHmmss)         author  ... latitude  longitude   location\n",
              "0  mbdata        20140123170000            POK  ...      NaN        NaN        NaN\n",
              "1  mbdata        20140123170000  maha_Homeland  ...      NaN        NaN        NaN\n",
              "2  mbdata        20140123170000       Viktor-E  ...      NaN        NaN        NaN\n",
              "\n",
              "[3 rows x 7 columns]"
            ]
          },
          "metadata": {
            "tags": []
          },
          "execution_count": 6
        }
      ]
    },
    {
      "cell_type": "code",
      "metadata": {
        "id": "50GVF3wfNltI"
      },
      "source": [
        "df['date'] = pd.to_datetime(df['date(yyyyMMddHHmmss)'], format='%Y%m%d%H%M%S')"
      ],
      "execution_count": null,
      "outputs": []
    },
    {
      "cell_type": "code",
      "metadata": {
        "id": "X04tXJTaKVMB"
      },
      "source": [
        "# quito los segundos agrupar a nivel minuto\n",
        "df['dateYMDHM'] = pd.to_datetime(df['date(yyyyMMddHHmmss)'].astype(str).str.slice(0,12), format='%Y%m%d%H%M')"
      ],
      "execution_count": null,
      "outputs": []
    },
    {
      "cell_type": "code",
      "metadata": {
        "colab": {
          "base_uri": "https://localhost:8080/"
        },
        "id": "RW4bQ4SUNsyo",
        "outputId": "a3689874-d9a1-4b1e-e1c8-09ca101b9f5e"
      },
      "source": [
        "df.groupby(['type']).date.count()"
      ],
      "execution_count": null,
      "outputs": [
        {
          "output_type": "execute_result",
          "data": {
            "text/plain": [
              "type\n",
              "ccdata     191\n",
              "mbdata    3872\n",
              "Name: date, dtype: int64"
            ]
          },
          "metadata": {
            "tags": []
          },
          "execution_count": 9
        }
      ]
    },
    {
      "cell_type": "code",
      "metadata": {
        "colab": {
          "base_uri": "https://localhost:8080/"
        },
        "id": "O_3GSCjpON4N",
        "outputId": "3f0ef27b-5d5c-4541-b960-ec2ee7c93c65"
      },
      "source": [
        "import nltk\n",
        "nltk.download('punkt')\n",
        "nltk.download('stopwords')\n",
        "from nltk import word_tokenize\n",
        "from nltk.corpus import stopwords"
      ],
      "execution_count": null,
      "outputs": [
        {
          "output_type": "stream",
          "text": [
            "[nltk_data] Downloading package punkt to /root/nltk_data...\n",
            "[nltk_data]   Unzipping tokenizers/punkt.zip.\n",
            "[nltk_data] Downloading package stopwords to /root/nltk_data...\n",
            "[nltk_data]   Unzipping corpora/stopwords.zip.\n"
          ],
          "name": "stdout"
        }
      ]
    },
    {
      "cell_type": "code",
      "metadata": {
        "colab": {
          "base_uri": "https://localhost:8080/"
        },
        "id": "yiMm9MkgOODm",
        "outputId": "34617527-6c69-4757-a6aa-c58cf57d5cba"
      },
      "source": [
        "stop = stopwords.words('english')\n",
        "print(stopwords.words('english'))"
      ],
      "execution_count": null,
      "outputs": [
        {
          "output_type": "stream",
          "text": [
            "['i', 'me', 'my', 'myself', 'we', 'our', 'ours', 'ourselves', 'you', \"you're\", \"you've\", \"you'll\", \"you'd\", 'your', 'yours', 'yourself', 'yourselves', 'he', 'him', 'his', 'himself', 'she', \"she's\", 'her', 'hers', 'herself', 'it', \"it's\", 'its', 'itself', 'they', 'them', 'their', 'theirs', 'themselves', 'what', 'which', 'who', 'whom', 'this', 'that', \"that'll\", 'these', 'those', 'am', 'is', 'are', 'was', 'were', 'be', 'been', 'being', 'have', 'has', 'had', 'having', 'do', 'does', 'did', 'doing', 'a', 'an', 'the', 'and', 'but', 'if', 'or', 'because', 'as', 'until', 'while', 'of', 'at', 'by', 'for', 'with', 'about', 'against', 'between', 'into', 'through', 'during', 'before', 'after', 'above', 'below', 'to', 'from', 'up', 'down', 'in', 'out', 'on', 'off', 'over', 'under', 'again', 'further', 'then', 'once', 'here', 'there', 'when', 'where', 'why', 'how', 'all', 'any', 'both', 'each', 'few', 'more', 'most', 'other', 'some', 'such', 'no', 'nor', 'not', 'only', 'own', 'same', 'so', 'than', 'too', 'very', 's', 't', 'can', 'will', 'just', 'don', \"don't\", 'should', \"should've\", 'now', 'd', 'll', 'm', 'o', 're', 've', 'y', 'ain', 'aren', \"aren't\", 'couldn', \"couldn't\", 'didn', \"didn't\", 'doesn', \"doesn't\", 'hadn', \"hadn't\", 'hasn', \"hasn't\", 'haven', \"haven't\", 'isn', \"isn't\", 'ma', 'mightn', \"mightn't\", 'mustn', \"mustn't\", 'needn', \"needn't\", 'shan', \"shan't\", 'shouldn', \"shouldn't\", 'wasn', \"wasn't\", 'weren', \"weren't\", 'won', \"won't\", 'wouldn', \"wouldn't\"]\n"
          ],
          "name": "stdout"
        }
      ]
    },
    {
      "cell_type": "code",
      "metadata": {
        "id": "IuC2CyV1OiNb",
        "colab": {
          "base_uri": "https://localhost:8080/"
        },
        "outputId": "a826ecb5-ca00-4c26-8434-690fc6fd18bd"
      },
      "source": [
        "df.loc[df['type'] == 'ccdata','message_clean']  = (df.loc[df['type'] == 'ccdata','message'].str.replace('[^a-zA-Z0-9]+',' ').str.lower()\n",
        "                                                                                    .apply(word_tokenize)\n",
        "                                                                                     .apply(lambda x: [item for item in x if item.isalpha()])\n",
        "                                                                                     .apply(lambda x: [item for item in x if item not in stop])\n",
        "                                                                                     .apply(' '.join))"
      ],
      "execution_count": null,
      "outputs": [
        {
          "output_type": "stream",
          "text": [
            "/usr/local/lib/python3.7/dist-packages/ipykernel_launcher.py:1: FutureWarning: The default value of regex will change from True to False in a future version.\n",
            "  \"\"\"Entry point for launching an IPython kernel.\n"
          ],
          "name": "stderr"
        }
      ]
    },
    {
      "cell_type": "code",
      "metadata": {
        "id": "vY4WGMvTi7Wd"
      },
      "source": [
        "df.loc[df['type'] == 'mbdata','message_clean']  = (df.loc[df['type'] == 'mbdata','message'].str.replace('[^a-zA-Z0-9]+',' ').str.lower()\n",
        "                                                                                    .apply(word_tokenize)\n",
        "                                                                                     .apply(lambda x: [item for item in x if item.isalpha()])\n",
        "                                                                                     .apply(lambda x: [item for item in x if item not in stop])\n",
        "                                                                                     .apply(' '.join))"
      ],
      "execution_count": null,
      "outputs": []
    },
    {
      "cell_type": "code",
      "metadata": {
        "colab": {
          "base_uri": "https://localhost:8080/",
          "height": 280
        },
        "id": "FHELuuxROiYv",
        "outputId": "5987a590-6721-4250-e40c-27a2f965d57b"
      },
      "source": [
        "df[df['type']=='ccdata'].head(3)"
      ],
      "execution_count": null,
      "outputs": [
        {
          "output_type": "execute_result",
          "data": {
            "text/html": [
              "<div>\n",
              "<style scoped>\n",
              "    .dataframe tbody tr th:only-of-type {\n",
              "        vertical-align: middle;\n",
              "    }\n",
              "\n",
              "    .dataframe tbody tr th {\n",
              "        vertical-align: top;\n",
              "    }\n",
              "\n",
              "    .dataframe thead th {\n",
              "        text-align: right;\n",
              "    }\n",
              "</style>\n",
              "<table border=\"1\" class=\"dataframe\">\n",
              "  <thead>\n",
              "    <tr style=\"text-align: right;\">\n",
              "      <th></th>\n",
              "      <th>type</th>\n",
              "      <th>date(yyyyMMddHHmmss)</th>\n",
              "      <th>author</th>\n",
              "      <th>message</th>\n",
              "      <th>latitude</th>\n",
              "      <th>longitude</th>\n",
              "      <th>location</th>\n",
              "      <th>date</th>\n",
              "      <th>dateYMDHM</th>\n",
              "      <th>message_clean</th>\n",
              "      <th>hashtags</th>\n",
              "      <th>mentions</th>\n",
              "      <th>rt</th>\n",
              "      <th>message_topic</th>\n",
              "      <th>message_topics</th>\n",
              "      <th>message_max_topic</th>\n",
              "      <th>message_max_topic_perc</th>\n",
              "      <th>message_clean_hhm</th>\n",
              "    </tr>\n",
              "  </thead>\n",
              "  <tbody>\n",
              "    <tr>\n",
              "      <th>9</th>\n",
              "      <td>ccdata</td>\n",
              "      <td>20140123170000</td>\n",
              "      <td>NaN</td>\n",
              "      <td>KEEP THE PEACE-CROWD CONTROL/ABILA CITY PARK</td>\n",
              "      <td>NaN</td>\n",
              "      <td>NaN</td>\n",
              "      <td>Egeou St / Parla St</td>\n",
              "      <td>2014-01-23 17:00:00</td>\n",
              "      <td>2014-01-23 17:00:00</td>\n",
              "      <td>keep peace crowd control abila city park 170</td>\n",
              "      <td>[]</td>\n",
              "      <td>[]</td>\n",
              "      <td>False</td>\n",
              "      <td>[]</td>\n",
              "      <td>[]</td>\n",
              "      <td>NaN</td>\n",
              "      <td>NaN</td>\n",
              "      <td>keep peace crowd control abila city park 170</td>\n",
              "    </tr>\n",
              "    <tr>\n",
              "      <th>28</th>\n",
              "      <td>ccdata</td>\n",
              "      <td>20140123170210</td>\n",
              "      <td>NaN</td>\n",
              "      <td>TRAFFIC STOP</td>\n",
              "      <td>NaN</td>\n",
              "      <td>NaN</td>\n",
              "      <td>N. Els St / N. Polvo St</td>\n",
              "      <td>2014-01-23 17:02:10</td>\n",
              "      <td>2014-01-23 17:02:00</td>\n",
              "      <td>traffic stop 170</td>\n",
              "      <td>[]</td>\n",
              "      <td>[]</td>\n",
              "      <td>False</td>\n",
              "      <td>[]</td>\n",
              "      <td>[]</td>\n",
              "      <td>NaN</td>\n",
              "      <td>NaN</td>\n",
              "      <td>traffic stop 170</td>\n",
              "    </tr>\n",
              "    <tr>\n",
              "      <th>59</th>\n",
              "      <td>ccdata</td>\n",
              "      <td>20140123170513</td>\n",
              "      <td>NaN</td>\n",
              "      <td>PARK CHECK</td>\n",
              "      <td>NaN</td>\n",
              "      <td>NaN</td>\n",
              "      <td>2099 Sannan Pky</td>\n",
              "      <td>2014-01-23 17:05:13</td>\n",
              "      <td>2014-01-23 17:05:00</td>\n",
              "      <td>park check 170</td>\n",
              "      <td>[]</td>\n",
              "      <td>[]</td>\n",
              "      <td>False</td>\n",
              "      <td>[]</td>\n",
              "      <td>[]</td>\n",
              "      <td>NaN</td>\n",
              "      <td>NaN</td>\n",
              "      <td>park check 170</td>\n",
              "    </tr>\n",
              "  </tbody>\n",
              "</table>\n",
              "</div>"
            ],
            "text/plain": [
              "      type  ...                             message_clean_hhm\n",
              "9   ccdata  ...  keep peace crowd control abila city park 170\n",
              "28  ccdata  ...                              traffic stop 170\n",
              "59  ccdata  ...                                park check 170\n",
              "\n",
              "[3 rows x 18 columns]"
            ]
          },
          "metadata": {
            "tags": []
          },
          "execution_count": 209
        }
      ]
    },
    {
      "cell_type": "code",
      "metadata": {
        "id": "7Rz7sgCJOib3"
      },
      "source": [
        "# columna de hashtags, @ y rt\n",
        "df['hashtags'] = df['message'].str.findall(r'#.*?(?=\\s|$)')\n",
        "df['mentions'] = df['message'].str.findall(r'@.*?(?=\\s|$)')\n",
        "df['rt'] = df['message'].str.startswith('RT ')"
      ],
      "execution_count": null,
      "outputs": []
    },
    {
      "cell_type": "code",
      "metadata": {
        "colab": {
          "base_uri": "https://localhost:8080/"
        },
        "id": "mz9oXuI_OifG",
        "outputId": "1c8f91a1-9424-473a-9dee-63ce33317746"
      },
      "source": [
        "df[df['type']=='ccdata'].groupby(['message']).type.count().sort_values(ascending=False)"
      ],
      "execution_count": null,
      "outputs": [
        {
          "output_type": "execute_result",
          "data": {
            "text/plain": [
              "message\n",
              "TRAFFIC STOP                                                                        36\n",
              "ALARM-SECURE NO CRIME                                                               15\n",
              "INCOMPLETE CALL FOR POLICE                                                          15\n",
              "SUBJECT STOP                                                                        13\n",
              "DISTURBANCE-NOISE                                                                   12\n",
              "SUSPICIOUS SUBJECT/CIRCUMSTANCES-IN PROGRESS                                        11\n",
              "SUSPICIOUS OCCUPIED VEHICLE-BLACK VAN                                               11\n",
              "MISDEMEANOR ASSAULT-IN PROGRESS                                                     11\n",
              "VEHICLE ACCIDENT-REPORT                                                              8\n",
              "PARK CHECK                                                                           5\n",
              "CHECK ON HAZARD                                                                      5\n",
              "BUSINESS CHECK                                                                       5\n",
              "VANDALISM-REPORT                                                                     4\n",
              "SHOPLIFTING                                                                          3\n",
              "NARCOTIC ACTIVITY-REPORT                                                             3\n",
              "PROWLER                                                                              2\n",
              "POSSIBLE FIRE-REPORT                                                                 2\n",
              "ALL UNITS BROADCAST-FELONY HIT & RUN-BLACK VAN/PARTIAL PLATE #L829                   1\n",
              "VEHICLE ACCIDENT - NO OR UNKNOWN INJURIES                                            1\n",
              "VEHICLE ACCIDENT - REPORT                                                            1\n",
              "CRIME SCENE INVESTIGATION REQUEST-LOCATION/DWELLING OF INTEREST                      1\n",
              "POLICE NEEDED-POLICE UNITS #101 AND #220 DISPATCHED TO FIRE                          1\n",
              "RECKLESS/HAZARADOUS DRIVER-IN PROGRESS                                               1\n",
              "PURSUIT-POLICE UNIT #253 IN PURSUIT                                                  1\n",
              "PURSUIT-CONTINUES-POLICE UNITS #253 AND #357                                         1\n",
              "PURSUIT CONTINUES-POLICE UNITS #253 AND #357/SECOND UNIT JOINS                       1\n",
              "POLICE UNITS DISPATCHED                                                              1\n",
              "POLICE UNIT DISPATCHED-CROWD CONTROL                                                 1\n",
              "CRIME SCENE INVESTIGATION-REQUEST-LOCATION/PERSON/VEHICLE OF INTEREST                1\n",
              "CROWD CONTROL-STREET CLOSURE                                                         1\n",
              "CRIME SCENE INVESTIGATION REQUEST-LOCATION/PERSON/INCIDENT OF INTEREST               1\n",
              "DIRE EMERGENCY/POLICE NEEDED-OFFICER DOWN-SEND ADDITIONAL UNITS                      1\n",
              "DIRE EMERGENCY/SWAT TEAM DISPATCHED                                                  1\n",
              "CRIME SCENE INVESTIGATION-REQUEST-ADDITIONAL UNITS-LOCATION/DWELLING OF INTEREST     1\n",
              "DRUNK SUBJECT                                                                        1\n",
              "FELONY ASSAULT/WEAPON-IN PROGRESS                                                    1\n",
              "FELONY HIT & RUN - IN PROGRESS-WITH INJURY                                           1\n",
              "FELONY HIT & RUN-IN PROGRESS-WITH INJURY                                             1\n",
              "FIRE/MEDICS DISPATCHED-PEDESTRIAN HIT & RUN                                          1\n",
              "FIRE/MEDICS NEEDED-AMBULANCE DISPATCHED                                              1\n",
              "FIRE/MEDICS NEEDED-AMUBLANCE DISPATCHED TO FIRE                                      1\n",
              "FIRE/MEDICS NEEDED-FIRE TRUCK #23 DISPATCHED TO FIRE                                 1\n",
              "FIRE/MEDICS NEEDED-FIRE TRUCKS #41 AND #57 DISPATCHED TO FIRE                        1\n",
              "ALL UNITS BROADCAST-BUILDING FIRE                                                    1\n",
              "CRIME SCENE INVESTIGATION-REQUEST                                                    1\n",
              "KEEP THE PEACE-CROWD CONTROL/ABILA CITY PARK                                         1\n",
              "FIRE/MEDICS NEEDED-OFFICER DOWN                                                      1\n",
              "Name: type, dtype: int64"
            ]
          },
          "metadata": {
            "tags": []
          },
          "execution_count": 16
        }
      ]
    },
    {
      "cell_type": "code",
      "metadata": {
        "id": "oC7SkmNOpGdV"
      },
      "source": [
        "%%capture\n",
        "!pip install pyLDAvis"
      ],
      "execution_count": null,
      "outputs": []
    },
    {
      "cell_type": "code",
      "metadata": {
        "colab": {
          "base_uri": "https://localhost:8080/"
        },
        "id": "yVRhvxMMpDNd",
        "outputId": "cee88b44-8dbe-4eac-8dc4-b48175d558a5"
      },
      "source": [
        "from collections import Counter\n",
        "from nltk import word_tokenize, sent_tokenize\n",
        "import nltk\n",
        "nltk.download('punkt')\n",
        "nltk.download('stopwords')\n",
        "from nltk.corpus import stopwords\n",
        "\n",
        "import gensim\n",
        "from gensim.models import CoherenceModel, LdaModel, LsiModel, HdpModel\n",
        "from gensim.models.wrappers import LdaMallet\n",
        "from gensim.corpora import Dictionary\n",
        "from gensim import corpora\n",
        "\n",
        "import pyLDAvis.gensim_models\n",
        "pyLDAvis.enable_notebook()\n",
        "\n",
        "import os, re, operator, warnings\n",
        "warnings.filterwarnings('ignore')  \n",
        "%matplotlib inline"
      ],
      "execution_count": null,
      "outputs": [
        {
          "output_type": "stream",
          "text": [
            "[nltk_data] Downloading package punkt to /root/nltk_data...\n",
            "[nltk_data]   Package punkt is already up-to-date!\n",
            "[nltk_data] Downloading package stopwords to /root/nltk_data...\n",
            "[nltk_data]   Package stopwords is already up-to-date!\n"
          ],
          "name": "stdout"
        },
        {
          "output_type": "stream",
          "text": [
            "/usr/local/lib/python3.7/dist-packages/past/types/oldstr.py:5: DeprecationWarning: Using or importing the ABCs from 'collections' instead of from 'collections.abc' is deprecated since Python 3.3,and in 3.9 it will stop working\n",
            "  from collections import Iterable\n"
          ],
          "name": "stderr"
        }
      ]
    },
    {
      "cell_type": "code",
      "metadata": {
        "colab": {
          "base_uri": "https://localhost:8080/"
        },
        "id": "LpkYd5g8wtiO",
        "outputId": "04058cfe-bee3-43b7-c87c-01ccbd60fc16"
      },
      "source": [
        "remove_users = ['KronosQuoth','Clevvah4Evah','POK']\n",
        "\n",
        "df[(df['type']=='mbdata') \n",
        "    & (~df['message'].str.startswith('RT ')) \n",
        "    & (~df['author'].isin(remove_users))\n",
        "    ].groupby(['author']).author.count().nlargest(20)"
      ],
      "execution_count": null,
      "outputs": [
        {
          "output_type": "execute_result",
          "data": {
            "text/plain": [
              "author\n",
              "megaMan                  106\n",
              "AbilaPost                 72\n",
              "HomelandIlluminations     65\n",
              "truccotrucco              64\n",
              "FriendsOfKronos           63\n",
              "choconibbs                50\n",
              "KronosStar                49\n",
              "roger_roger               37\n",
              "protoGuy                  34\n",
              "CentralBulletin           30\n",
              "GreyCatCollectibles       30\n",
              "Viktor-E                  30\n",
              "SaveOurWildlands          26\n",
              "maha_Homeland             25\n",
              "panopticon                25\n",
              "trollingsnark             25\n",
              "ourcountryourrights       23\n",
              "prettyRain                23\n",
              "NewsOnlineToday           21\n",
              "anaregents                20\n",
              "Name: author, dtype: int64"
            ]
          },
          "metadata": {
            "tags": []
          },
          "execution_count": 19
        }
      ]
    },
    {
      "cell_type": "code",
      "metadata": {
        "colab": {
          "base_uri": "https://localhost:8080/",
          "height": 696
        },
        "id": "FadFep3FWgPg",
        "outputId": "f3ce527b-2b9f-40b3-e757-b2422a9a480a"
      },
      "source": [
        "remove_users = ['KronosQuoth','Clevvah4Evah','POK']\n",
        "del_msjs = ['creditratings','contest','refill','prescription','morecredit','clickhere','pictures','recommend','badprofiles','lucio','speakers','click','cheap car sales','\\$','link','diet','stuff','workathome','song']\n",
        "\n",
        "df[(df['type']=='mbdata')&(~df['author'].isin(remove_users))&(~df['message_clean'].str.contains('|'.join(del_msjs)))&(df['message'].str.lower().str.contains('choconibbs'))].head(5)"
      ],
      "execution_count": null,
      "outputs": [
        {
          "output_type": "execute_result",
          "data": {
            "text/html": [
              "<div>\n",
              "<style scoped>\n",
              "    .dataframe tbody tr th:only-of-type {\n",
              "        vertical-align: middle;\n",
              "    }\n",
              "\n",
              "    .dataframe tbody tr th {\n",
              "        vertical-align: top;\n",
              "    }\n",
              "\n",
              "    .dataframe thead th {\n",
              "        text-align: right;\n",
              "    }\n",
              "</style>\n",
              "<table border=\"1\" class=\"dataframe\">\n",
              "  <thead>\n",
              "    <tr style=\"text-align: right;\">\n",
              "      <th></th>\n",
              "      <th>type</th>\n",
              "      <th>date(yyyyMMddHHmmss)</th>\n",
              "      <th>author</th>\n",
              "      <th>message</th>\n",
              "      <th>latitude</th>\n",
              "      <th>longitude</th>\n",
              "      <th>location</th>\n",
              "      <th>date</th>\n",
              "      <th>dateYMDHM</th>\n",
              "      <th>message_clean</th>\n",
              "      <th>hashtags</th>\n",
              "      <th>mentions</th>\n",
              "      <th>rt</th>\n",
              "      <th>message_topic</th>\n",
              "      <th>message_topics</th>\n",
              "      <th>message_max_topic</th>\n",
              "      <th>message_max_topic_perc</th>\n",
              "      <th>message_clean_hhm</th>\n",
              "    </tr>\n",
              "  </thead>\n",
              "  <tbody>\n",
              "    <tr>\n",
              "      <th>119</th>\n",
              "      <td>mbdata</td>\n",
              "      <td>20140123171100</td>\n",
              "      <td>rnbwBrite</td>\n",
              "      <td>RT @choconibbs Lovely words - ugly person #POKRally</td>\n",
              "      <td>NaN</td>\n",
              "      <td>NaN</td>\n",
              "      <td>NaN</td>\n",
              "      <td>2014-01-23 17:11:00</td>\n",
              "      <td>2014-01-23 17:11:00</td>\n",
              "      <td>rt choconibbs lovely words ugly person pokrally</td>\n",
              "      <td>[#POKRally]</td>\n",
              "      <td>[@choconibbs]</td>\n",
              "      <td>True</td>\n",
              "      <td>[(0, 0.33333334), (1, 0.33333334), (2, 0.33333334)]</td>\n",
              "      <td>[(0, 0.33333334), (1, 0.33333334), (2, 0.33333334)]</td>\n",
              "      <td>[0]</td>\n",
              "      <td>[0.33333334]</td>\n",
              "      <td>rt choconibbs lovely words ugly person pokrally 171</td>\n",
              "    </tr>\n",
              "    <tr>\n",
              "      <th>219</th>\n",
              "      <td>mbdata</td>\n",
              "      <td>20140123171701</td>\n",
              "      <td>dragonRider1</td>\n",
              "      <td>RT @choconibbs POK trying to give an aura of cred - while kidnapping, extorting</td>\n",
              "      <td>NaN</td>\n",
              "      <td>NaN</td>\n",
              "      <td>NaN</td>\n",
              "      <td>2014-01-23 17:17:01</td>\n",
              "      <td>2014-01-23 17:17:00</td>\n",
              "      <td>rt choconibbs pok trying give aura cred kidnapping extorting</td>\n",
              "      <td>[]</td>\n",
              "      <td>[@choconibbs]</td>\n",
              "      <td>True</td>\n",
              "      <td>[(0, 0.1668235), (1, 0.18311836), (2, 0.65005815)]</td>\n",
              "      <td>[(0, 0.16682361), (1, 0.18324006), (2, 0.6499364)]</td>\n",
              "      <td>[2]</td>\n",
              "      <td>[0.6499364]</td>\n",
              "      <td>rt choconibbs pok trying give aura cred kidnapping extorting 171</td>\n",
              "    </tr>\n",
              "    <tr>\n",
              "      <th>304</th>\n",
              "      <td>mbdata</td>\n",
              "      <td>20140123172300</td>\n",
              "      <td>lordWally</td>\n",
              "      <td>RT @choconibbs IT just doesn't get better than this #blather #POKRally</td>\n",
              "      <td>NaN</td>\n",
              "      <td>NaN</td>\n",
              "      <td>NaN</td>\n",
              "      <td>2014-01-23 17:23:00</td>\n",
              "      <td>2014-01-23 17:23:00</td>\n",
              "      <td>rt choconibbs get better blather pokrally</td>\n",
              "      <td>[#blather, #POKRally]</td>\n",
              "      <td>[@choconibbs]</td>\n",
              "      <td>True</td>\n",
              "      <td>[(0, 0.33333334), (1, 0.33333334), (2, 0.33333334)]</td>\n",
              "      <td>[(0, 0.33333334), (1, 0.33333334), (2, 0.33333334)]</td>\n",
              "      <td>[0]</td>\n",
              "      <td>[0.33333334]</td>\n",
              "      <td>rt choconibbs get better blather pokrally 172</td>\n",
              "    </tr>\n",
              "    <tr>\n",
              "      <th>375</th>\n",
              "      <td>mbdata</td>\n",
              "      <td>20140123172651</td>\n",
              "      <td>plasticParts</td>\n",
              "      <td>RT @choconibbs @TomaToma kidnapping is a crime #fact #POKRally</td>\n",
              "      <td>NaN</td>\n",
              "      <td>NaN</td>\n",
              "      <td>NaN</td>\n",
              "      <td>2014-01-23 17:26:51</td>\n",
              "      <td>2014-01-23 17:26:00</td>\n",
              "      <td>rt choconibbs tomatoma kidnapping crime fact pokrally</td>\n",
              "      <td>[#fact, #POKRally]</td>\n",
              "      <td>[@choconibbs, @TomaToma]</td>\n",
              "      <td>True</td>\n",
              "      <td>[(0, 0.33333334), (1, 0.33333334), (2, 0.33333334)]</td>\n",
              "      <td>[(0, 0.33333334), (1, 0.33333334), (2, 0.33333334)]</td>\n",
              "      <td>[0]</td>\n",
              "      <td>[0.33333334]</td>\n",
              "      <td>rt choconibbs tomatoma kidnapping crime fact pokrally 172</td>\n",
              "    </tr>\n",
              "    <tr>\n",
              "      <th>391</th>\n",
              "      <td>mbdata</td>\n",
              "      <td>20140123172725</td>\n",
              "      <td>gardener4958</td>\n",
              "      <td>RT @choconibbs @Sara people first; environment second</td>\n",
              "      <td>NaN</td>\n",
              "      <td>NaN</td>\n",
              "      <td>NaN</td>\n",
              "      <td>2014-01-23 17:27:25</td>\n",
              "      <td>2014-01-23 17:27:00</td>\n",
              "      <td>rt choconibbs sara people first environment second</td>\n",
              "      <td>[]</td>\n",
              "      <td>[@choconibbs, @Sara]</td>\n",
              "      <td>True</td>\n",
              "      <td>[(0, 0.11892591), (1, 0.7652345), (2, 0.11583966)]</td>\n",
              "      <td>[(0, 0.11893514), (1, 0.7652238), (2, 0.11584105)]</td>\n",
              "      <td>[1]</td>\n",
              "      <td>[0.7652238]</td>\n",
              "      <td>rt choconibbs sara people first environment second 172</td>\n",
              "    </tr>\n",
              "  </tbody>\n",
              "</table>\n",
              "</div>"
            ],
            "text/plain": [
              "       type  ...                                                 message_clean_hhm\n",
              "119  mbdata  ...               rt choconibbs lovely words ugly person pokrally 171\n",
              "219  mbdata  ...  rt choconibbs pok trying give aura cred kidnapping extorting 171\n",
              "304  mbdata  ...                     rt choconibbs get better blather pokrally 172\n",
              "375  mbdata  ...         rt choconibbs tomatoma kidnapping crime fact pokrally 172\n",
              "391  mbdata  ...            rt choconibbs sara people first environment second 172\n",
              "\n",
              "[5 rows x 18 columns]"
            ]
          },
          "metadata": {
            "tags": []
          },
          "execution_count": 237
        }
      ]
    },
    {
      "cell_type": "code",
      "metadata": {
        "id": "VJqFD3Xx1-I0"
      },
      "source": [
        "# df['message_clean'] = df['message_clean'] + ' ' + df['date(yyyyMMddHHmmss)'].astype(str).str.slice(start=8, stop=11)"
      ],
      "execution_count": null,
      "outputs": []
    },
    {
      "cell_type": "code",
      "metadata": {
        "id": "FjJVUodfw4Ht"
      },
      "source": [
        "del_words = ['abila','get','hi','pok','kronos','viktor','pokrally','followers','rally','sylvia','newman','around','abilapost','many','says','centralbulletin']\n",
        "\n",
        "desde = df['dateYMDHM'].dt.strftime('%H:%M').min()\n",
        "hasta = df['dateYMDHM'].dt.strftime('%H:%M').max()\n",
        "\n",
        "msjs = df[(df['type']=='mbdata') \n",
        "    & (~df['message'].str.startswith('RT ')) \n",
        "    & (~df['author'].isin(remove_users))\n",
        "    & (~df['message_clean'].str.contains('|'.join(del_msjs)))\n",
        "    & ((df['date'].dt.strftime('%H:%M') > desde) & (df['date'].dt.strftime('%H:%M') < hasta))\n",
        "    ]['message_clean'].apply(word_tokenize).apply(lambda x: [word for word in x if word not in del_words and len(word)>2])"
      ],
      "execution_count": null,
      "outputs": []
    },
    {
      "cell_type": "code",
      "metadata": {
        "colab": {
          "base_uri": "https://localhost:8080/"
        },
        "id": "2urFshAmy9is",
        "outputId": "c8e9506b-11b9-46a5-b808-4e2c0300eda8"
      },
      "source": [
        "# msjs"
      ],
      "execution_count": null,
      "outputs": [
        {
          "output_type": "execute_result",
          "data": {
            "text/plain": [
              "34        [concerns, violence, surround, today, heavy, police, presence]\n",
              "47      [today, city, park, concerns, violence, heavy, police, presence]\n",
              "48                           [marek, terrorist, introducing, terrorists]\n",
              "49                           [long, terrorists, start, destroying, park]\n",
              "57                                           [meet, band, show, tonight]\n",
              "                                      ...                               \n",
              "4044                         [unknown, explosion, heard, dancingdolphin]\n",
              "4045                          [ohnoohnoohnoohnoohnoohnoohnoohnoohnoohno]\n",
              "4048                     [explosion, heard, dancing, dolphin, apartment]\n",
              "4049                                                [didnt, sound, good]\n",
              "4050                                                [may, creator, help]\n",
              "Name: message_clean, Length: 1206, dtype: object"
            ]
          },
          "metadata": {
            "tags": []
          },
          "execution_count": 226
        }
      ]
    },
    {
      "cell_type": "code",
      "metadata": {
        "colab": {
          "base_uri": "https://localhost:8080/"
        },
        "id": "EZQ9EiHj1LXG",
        "outputId": "337f56f8-6502-46a5-efca-09f8e7892ad7"
      },
      "source": [
        "# msjs_expl = msjs.explode()\n",
        "# msjs_expl.groupby(msjs_expl).count().sort_values(ascending=False)"
      ],
      "execution_count": null,
      "outputs": [
        {
          "output_type": "execute_result",
          "data": {
            "text/plain": [
              "message_clean\n",
              "fire              143\n",
              "police             99\n",
              "tag                89\n",
              "apd                80\n",
              "van                77\n",
              "                 ... \n",
              "dophin              1\n",
              "dorel               1\n",
              "downwithkronos      1\n",
              "obviously           1\n",
              "zawahiri            1\n",
              "Name: message_clean, Length: 2079, dtype: int64"
            ]
          },
          "metadata": {
            "tags": []
          },
          "execution_count": 227
        }
      ]
    },
    {
      "cell_type": "code",
      "metadata": {
        "colab": {
          "base_uri": "https://localhost:8080/"
        },
        "id": "qyl_MehppXur",
        "outputId": "65fd10cf-e0d2-4234-bc19-eaa06ec8343c"
      },
      "source": [
        "dictionary = corpora.Dictionary(msjs)\n",
        "dictionary.filter_extremes(no_below=20, no_above=0.5)\n",
        "print(len(dictionary))"
      ],
      "execution_count": null,
      "outputs": [
        {
          "output_type": "stream",
          "text": [
            "46\n"
          ],
          "name": "stdout"
        }
      ]
    },
    {
      "cell_type": "code",
      "metadata": {
        "id": "GODWOSx7pX6i",
        "colab": {
          "base_uri": "https://localhost:8080/",
          "height": 860
        },
        "outputId": "3b81a551-41b7-47c8-a3f4-f933118f246a"
      },
      "source": [
        "corpus = [dictionary.doc2bow(text) for text in msjs]\n",
        "ldamodel = LdaModel(corpus=corpus, num_topics=8, id2word=dictionary)\n",
        "# ldamodel.print_topics(10, 10)\n",
        "pyLDAvis.gensim_models.prepare(ldamodel, corpus, dictionary)"
      ],
      "execution_count": null,
      "outputs": [
        {
          "output_type": "execute_result",
          "data": {
            "text/html": [
              "\n",
              "<link rel=\"stylesheet\" type=\"text/css\" href=\"https://cdn.jsdelivr.net/gh/bmabey/pyLDAvis@3.3.1/pyLDAvis/js/ldavis.v1.0.0.css\">\n",
              "\n",
              "\n",
              "<div id=\"ldavis_el1151396796633640487674175459\"></div>\n",
              "<script type=\"text/javascript\">\n",
              "\n",
              "var ldavis_el1151396796633640487674175459_data = {\"mdsDat\": {\"x\": [-0.24820484407458304, -0.07691252078614165, 0.10194529785253167, 0.06412326046360634, -0.015307810375385478, 0.1573669349885878, -0.028561882942174613, 0.04555156487355912], \"y\": [-0.0011401953589963512, -0.08521242856786086, -0.10658343931613994, -0.09908141457800382, 0.10795381714763667, 0.05278529810350403, 0.030383955971729375, 0.10089440659813072], \"topics\": [1, 2, 3, 4, 5, 6, 7, 8], \"cluster\": [1, 1, 1, 1, 1, 1, 1, 1], \"Freq\": [23.514297858863195, 14.432850908711844, 12.90818065930559, 11.118791559109445, 10.640273941159199, 10.075690084649485, 8.962084936006507, 8.34783005219473]}, \"tinfo\": {\"Term\": [\"fire\", \"cops\", \"people\", \"tag\", \"standoff\", \"help\", \"police\", \"park\", \"cop\", \"gelatogalore\", \"one\", \"apd\", \"going\", \"getting\", \"time\", \"got\", \"dolphin\", \"building\", \"dancing\", \"like\", \"think\", \"hostage\", \"hostages\", \"see\", \"terrorists\", \"arrived\", \"swat\", \"van\", \"gelato\", \"still\", \"fire\", \"dolphin\", \"dancing\", \"residents\", \"department\", \"kronosstar\", \"anyone\", \"apd\", \"dancingdolphinfire\", \"gelato\", \"afd\", \"report\", \"arrived\", \"hostage\", \"building\", \"black\", \"police\", \"someone\", \"shot\", \"still\", \"swat\", \"think\", \"see\", \"hit\", \"scene\", \"shooting\", \"guy\", \"standoff\", \"van\", \"back\", \"gelatogalore\", \"scene\", \"arrived\", \"like\", \"still\", \"hit\", \"van\", \"guy\", \"gelatogalore\", \"anyone\", \"police\", \"someone\", \"afd\", \"time\", \"department\", \"building\", \"shot\", \"shooting\", \"back\", \"tag\", \"standoff\", \"getting\", \"cop\", \"residents\", \"dancingdolphinfire\", \"black\", \"dancing\", \"fire\", \"kronosstar\", \"apd\", \"dolphin\", \"cops\", \"cops\", \"think\", \"terrorists\", \"shooting\", \"black\", \"one\", \"hit\", \"guy\", \"van\", \"someone\", \"standoff\", \"hostages\", \"back\", \"gelatogalore\", \"going\", \"shot\", \"dancingdolphinfire\", \"apd\", \"building\", \"people\", \"still\", \"see\", \"department\", \"good\", \"cop\", \"report\", \"police\", \"getting\", \"arrived\", \"swat\", \"tag\", \"kronosstar\", \"like\", \"cop\", \"gelato\", \"police\", \"cops\", \"shot\", \"report\", \"tag\", \"black\", \"swat\", \"help\", \"anyone\", \"someone\", \"getting\", \"think\", \"got\", \"going\", \"park\", \"van\", \"people\", \"back\", \"dolphin\", \"dancing\", \"still\", \"like\", \"hit\", \"shooting\", \"time\", \"building\", \"terrorists\", \"one\", \"kronosstar\", \"building\", \"people\", \"gelatogalore\", \"see\", \"good\", \"got\", \"tag\", \"hostages\", \"shot\", \"gelato\", \"report\", \"terrorists\", \"guy\", \"scene\", \"apd\", \"black\", \"dancingdolphinfire\", \"going\", \"swat\", \"van\", \"still\", \"kronosstar\", \"hostage\", \"think\", \"fire\", \"hit\", \"dolphin\", \"dancing\", \"police\", \"back\", \"standoff\", \"like\", \"cop\", \"help\", \"time\", \"getting\", \"one\", \"going\", \"swat\", \"apd\", \"tag\", \"good\", \"terrorists\", \"shot\", \"dancingdolphinfire\", \"shooting\", \"got\", \"back\", \"hostages\", \"afd\", \"like\", \"think\", \"hit\", \"van\", \"cop\", \"scene\", \"guy\", \"black\", \"people\", \"kronosstar\", \"standoff\", \"hostage\", \"see\", \"park\", \"anyone\", \"fire\", \"police\", \"hostage\", \"got\", \"back\", \"hostages\", \"like\", \"still\", \"afd\", \"good\", \"guy\", \"going\", \"police\", \"scene\", \"people\", \"standoff\", \"gelato\", \"shooting\", \"kronosstar\", \"cop\", \"terrorists\", \"residents\", \"tag\", \"fire\", \"apd\", \"hit\", \"department\", \"someone\", \"shot\", \"time\", \"report\", \"dancingdolphinfire\", \"van\", \"cops\", \"getting\", \"think\", \"help\", \"gelatogalore\", \"park\", \"standoff\", \"see\", \"good\", \"one\", \"swat\", \"report\", \"people\", \"hostages\", \"dancingdolphinfire\", \"going\", \"terrorists\", \"arrived\", \"afd\", \"someone\", \"tag\", \"cops\", \"kronosstar\", \"like\", \"hostage\", \"anyone\", \"van\", \"scene\", \"residents\", \"guy\", \"getting\", \"got\", \"gelato\", \"back\", \"shooting\", \"fire\", \"police\", \"apd\", \"cop\", \"dancing\", \"dolphin\"], \"Freq\": [128.0, 66.0, 71.0, 92.0, 57.0, 30.0, 96.0, 21.0, 42.0, 37.0, 32.0, 79.0, 50.0, 26.0, 22.0, 28.0, 44.0, 29.0, 44.0, 35.0, 36.0, 19.0, 30.0, 19.0, 32.0, 27.0, 30.0, 76.0, 29.0, 33.0, 101.20688868473141, 34.43087462993986, 34.3209395051501, 17.025487408485642, 13.845090939022123, 33.04156614610864, 9.008153272669922, 34.82505301413431, 10.792066140896672, 10.793265311556173, 11.151208994534647, 7.230435323255202, 8.12513368576565, 5.4535618097531, 6.3442127722222175, 4.564020438461947, 17.91913390881734, 3.6723952493647416, 3.6732611843529273, 5.453606002297324, 4.565226775479971, 5.45490828889335, 2.7817307504406363, 2.783331038111906, 2.782989242623466, 4.564486649896965, 4.564086528212769, 5.457864411784052, 6.348266144228984, 1.8941495772710153, 1.8951150450164636, 12.783426976882044, 13.626606620329014, 17.004664168336387, 12.783169900679239, 6.864353463418743, 25.457544761340422, 13.628641725478225, 11.091999476636202, 6.020428983216875, 27.146099459456806, 6.021909370704138, 8.216643202241931, 5.176412620265715, 3.9720206292477047, 5.177635442812144, 3.4870248681803524, 6.024007034320952, 4.334042815731388, 13.634453798108972, 7.715811840324526, 3.489384251011241, 5.180640204209203, 2.642676163370051, 2.6438772370742267, 1.7963301084232124, 3.1226775105277498, 8.921919546190352, 3.4908355585858293, 5.182259882034488, 2.178935619146894, 1.8013520138469492, 42.095248664367205, 19.421560516854374, 16.0115231458039, 17.155161033444212, 9.218965244696028, 10.349092115131231, 5.813757920236185, 11.485609508747887, 19.433442868575618, 4.680723842572538, 11.492146900314356, 5.816875376551515, 4.681950805539046, 5.815956574928572, 6.953139684468987, 2.4130755407814317, 2.413519205694508, 6.956074866627909, 2.4137797222346, 5.825113556469492, 2.415284030410316, 1.2776116874177237, 1.2777852194083554, 1.2775679765888492, 2.4166257343026185, 1.2786764832091064, 4.6917079367604115, 1.281716571357328, 1.2791312943835456, 1.2793753100857375, 1.2861829438517243, 1.2829828740698221, 1.281187888882091, 24.959177511354344, 10.0846069860419, 27.45290620774328, 16.28935803873066, 5.121376412607616, 5.1217943435963695, 20.018629295177277, 5.120945680129116, 6.359156597769949, 6.363603985913339, 3.881392488637015, 3.8797938084764296, 3.879094244713272, 5.122410321161777, 3.880001644427594, 6.36822381765389, 2.641123543262372, 8.848559896682481, 7.616186081851246, 2.641252311188637, 3.880458356399989, 3.882208395351096, 2.642454709938714, 2.642365664282101, 1.3990165486946207, 2.640877491099173, 1.400093756405274, 1.4002343845352736, 1.4022623852453424, 1.3992031115819428, 1.4026745743894313, 13.948243116614151, 32.69673182983283, 16.912650938810312, 8.026162394504727, 7.034021723610021, 8.02281943447152, 24.810606240099233, 7.037629151488064, 4.072960464551222, 4.075605142999566, 3.0883913567237524, 3.088177332337061, 4.07814172832332, 2.100683044402931, 7.0426151270150665, 2.099904413595455, 2.1004502838746437, 4.079069167332317, 2.1022453503636975, 5.068170259563504, 2.1023476785216446, 3.0916550484655936, 1.1131539865137245, 2.10170020070534, 7.04768325331676, 1.1130049080793918, 2.1010157910714664, 2.101784153032106, 4.084641367905023, 1.1144937107154358, 2.1045736762674045, 1.1155132991131478, 1.1153414310450467, 20.92081919002866, 13.591563832147571, 16.024966833040384, 12.376419531874363, 17.254589955958185, 8.709527702988737, 19.71347453830045, 19.711970564075322, 2.6005788799602843, 3.825316474990255, 2.5994848478929384, 2.598966918475121, 3.82304720716555, 2.600488805278925, 2.6012358451078517, 2.6012563166263423, 2.6019586603065643, 2.6030197673483375, 2.6011268342718883, 1.3781456102304344, 5.0471802100160925, 2.602522309449011, 1.3772533932162103, 2.603366588990769, 1.3769820602982137, 3.830107492701052, 1.3823180468908343, 1.3836179883150002, 0.15547970088498508, 0.15536898408914734, 0.15834444466604064, 0.15618586165042556, 0.16581384070388228, 0.16327145936556156, 10.292911826692217, 11.146914062190373, 11.139698472082298, 8.595670651404728, 8.595141378644445, 7.744216451511695, 6.05174115892345, 3.503577787841997, 6.052251008830145, 6.904024471879036, 12.84962094987046, 2.6546625190914668, 7.754305410022497, 6.054531373234252, 2.6552603788034834, 3.5048263131492234, 4.354364934107105, 3.505928560090363, 2.6575304248166227, 1.8057587826602548, 6.906286627357905, 7.756233128241142, 4.357470769788718, 0.9571227933005793, 0.9561323795086166, 0.9570055733443525, 0.9566860825769284, 0.9575789268778183, 0.9571395606859036, 0.9578547920951904, 2.6576597081858204, 1.8120118793284004, 0.9589158413429764, 0.9586834499346125, 0.9583480263576042, 0.9582609269985439, 16.47203908672997, 22.841454643799466, 6.479791996514617, 5.57075398214015, 7.39248564988828, 6.480287254752058, 4.661375901749907, 11.935247486452608, 4.663277783839808, 3.7516619955685218, 7.390521012473772, 4.662896163622602, 3.7523822683932937, 3.752959504307024, 1.932611139175858, 6.488824240351791, 3.759719835784428, 2.8446595717007996, 1.9365484704316818, 1.024978900608924, 1.0260777548232471, 3.7573509636213234, 1.0242830090758066, 1.0246153720168294, 1.9365717916671776, 1.0267547773567358, 1.0254233468211484, 1.025697123991789, 1.0260164835772623, 1.026775625127861, 2.853189772941115, 1.9433441371143825, 1.0307541572330607, 1.028174263223923, 1.0270089788236418, 1.026084397841843], \"Total\": [128.0, 66.0, 71.0, 92.0, 57.0, 30.0, 96.0, 21.0, 42.0, 37.0, 32.0, 79.0, 50.0, 26.0, 22.0, 28.0, 44.0, 29.0, 44.0, 35.0, 36.0, 19.0, 30.0, 19.0, 32.0, 27.0, 30.0, 76.0, 29.0, 33.0, 128.2781760004023, 44.02713290228064, 44.868643252954726, 23.07866532928136, 20.60169355784912, 50.89105675431806, 20.471847903619235, 79.27101757235309, 25.417035917341554, 29.04191961913772, 32.20693344903449, 23.4471896471515, 27.331129094490983, 19.29464965026417, 29.665305935446828, 24.399401095481245, 96.25072542703326, 21.426133378794137, 22.4395462801915, 33.416159642370076, 30.557393979828277, 36.729889361443796, 19.939285371996018, 20.424327916849165, 23.02438131313049, 38.865721966710154, 44.508392479502625, 57.21320214388477, 76.61817481221425, 29.432840021212936, 37.108559847355835, 23.02438131313049, 27.331129094490983, 35.292681275192045, 33.416159642370076, 20.424327916849165, 76.61817481221425, 44.508392479502625, 37.108559847355835, 20.471847903619235, 96.25072542703326, 21.426133378794137, 32.20693344903449, 22.516541486444243, 20.60169355784912, 29.665305935446828, 22.4395462801915, 38.865721966710154, 29.432840021212936, 92.97565188438531, 57.21320214388477, 26.90477103121577, 42.70306860146616, 23.07866532928136, 25.417035917341554, 24.399401095481245, 44.868643252954726, 128.2781760004023, 50.89105675431806, 79.27101757235309, 44.02713290228064, 66.16684761003434, 66.16684761003434, 36.729889361443796, 32.71720109307977, 38.865721966710154, 24.399401095481245, 32.81967237022136, 20.424327916849165, 44.508392479502625, 76.61817481221425, 21.426133378794137, 57.21320214388477, 30.8773630520626, 29.432840021212936, 37.108559847355835, 50.91183082575143, 22.4395462801915, 25.417035917341554, 79.27101757235309, 29.665305935446828, 71.62933397152867, 33.416159642370076, 19.939285371996018, 20.60169355784912, 21.25845352402923, 42.70306860146616, 23.4471896471515, 96.25072542703326, 26.90477103121577, 27.331129094490983, 30.557393979828277, 92.97565188438531, 50.89105675431806, 35.292681275192045, 42.70306860146616, 29.04191961913772, 96.25072542703326, 66.16684761003434, 22.4395462801915, 23.4471896471515, 92.97565188438531, 24.399401095481245, 30.557393979828277, 30.59007500397077, 20.471847903619235, 21.426133378794137, 26.90477103121577, 36.729889361443796, 28.777868672296034, 50.91183082575143, 21.612167687586037, 76.61817481221425, 71.62933397152867, 29.432840021212936, 44.02713290228064, 44.868643252954726, 33.416159642370076, 35.292681275192045, 20.424327916849165, 38.865721966710154, 22.516541486444243, 29.665305935446828, 32.71720109307977, 32.81967237022136, 50.89105675431806, 29.665305935446828, 71.62933397152867, 37.108559847355835, 19.939285371996018, 21.25845352402923, 28.777868672296034, 92.97565188438531, 30.8773630520626, 22.4395462801915, 29.04191961913772, 23.4471896471515, 32.71720109307977, 44.508392479502625, 23.02438131313049, 79.27101757235309, 24.399401095481245, 25.417035917341554, 50.91183082575143, 30.557393979828277, 76.61817481221425, 33.416159642370076, 50.89105675431806, 19.29464965026417, 36.729889361443796, 128.2781760004023, 20.424327916849165, 44.02713290228064, 44.868643252954726, 96.25072542703326, 29.432840021212936, 57.21320214388477, 35.292681275192045, 42.70306860146616, 30.59007500397077, 22.516541486444243, 26.90477103121577, 32.81967237022136, 50.91183082575143, 30.557393979828277, 79.27101757235309, 92.97565188438531, 21.25845352402923, 32.71720109307977, 22.4395462801915, 25.417035917341554, 38.865721966710154, 28.777868672296034, 29.432840021212936, 30.8773630520626, 32.20693344903449, 35.292681275192045, 36.729889361443796, 20.424327916849165, 76.61817481221425, 42.70306860146616, 23.02438131313049, 44.508392479502625, 24.399401095481245, 71.62933397152867, 50.89105675431806, 57.21320214388477, 19.29464965026417, 19.939285371996018, 21.612167687586037, 20.471847903619235, 128.2781760004023, 96.25072542703326, 19.29464965026417, 28.777868672296034, 29.432840021212936, 30.8773630520626, 35.292681275192045, 33.416159642370076, 32.20693344903449, 21.25845352402923, 44.508392479502625, 50.91183082575143, 96.25072542703326, 23.02438131313049, 71.62933397152867, 57.21320214388477, 29.04191961913772, 38.865721966710154, 50.89105675431806, 42.70306860146616, 32.71720109307977, 23.07866532928136, 92.97565188438531, 128.2781760004023, 79.27101757235309, 20.424327916849165, 20.60169355784912, 21.426133378794137, 22.4395462801915, 22.516541486444243, 23.4471896471515, 25.417035917341554, 76.61817481221425, 66.16684761003434, 26.90477103121577, 36.729889361443796, 30.59007500397077, 37.108559847355835, 21.612167687586037, 57.21320214388477, 19.939285371996018, 21.25845352402923, 32.81967237022136, 30.557393979828277, 23.4471896471515, 71.62933397152867, 30.8773630520626, 25.417035917341554, 50.91183082575143, 32.71720109307977, 27.331129094490983, 32.20693344903449, 21.426133378794137, 92.97565188438531, 66.16684761003434, 50.89105675431806, 35.292681275192045, 19.29464965026417, 20.471847903619235, 76.61817481221425, 23.02438131313049, 23.07866532928136, 44.508392479502625, 26.90477103121577, 28.777868672296034, 29.04191961913772, 29.432840021212936, 38.865721966710154, 128.2781760004023, 96.25072542703326, 79.27101757235309, 42.70306860146616, 44.868643252954726, 44.02713290228064], \"Category\": [\"Default\", \"Default\", \"Default\", \"Default\", \"Default\", \"Default\", \"Default\", \"Default\", \"Default\", \"Default\", \"Default\", \"Default\", \"Default\", \"Default\", \"Default\", \"Default\", \"Default\", \"Default\", \"Default\", \"Default\", \"Default\", \"Default\", \"Default\", \"Default\", \"Default\", \"Default\", \"Default\", \"Default\", \"Default\", \"Default\", \"Topic1\", \"Topic1\", \"Topic1\", \"Topic1\", \"Topic1\", \"Topic1\", \"Topic1\", \"Topic1\", \"Topic1\", \"Topic1\", \"Topic1\", \"Topic1\", \"Topic1\", \"Topic1\", \"Topic1\", \"Topic1\", \"Topic1\", \"Topic1\", \"Topic1\", \"Topic1\", \"Topic1\", \"Topic1\", \"Topic1\", \"Topic1\", \"Topic1\", \"Topic1\", \"Topic1\", \"Topic1\", \"Topic1\", \"Topic1\", \"Topic1\", \"Topic2\", \"Topic2\", \"Topic2\", \"Topic2\", \"Topic2\", \"Topic2\", \"Topic2\", \"Topic2\", \"Topic2\", \"Topic2\", \"Topic2\", \"Topic2\", \"Topic2\", \"Topic2\", \"Topic2\", \"Topic2\", \"Topic2\", \"Topic2\", \"Topic2\", \"Topic2\", \"Topic2\", \"Topic2\", \"Topic2\", \"Topic2\", \"Topic2\", \"Topic2\", \"Topic2\", \"Topic2\", \"Topic2\", \"Topic2\", \"Topic2\", \"Topic3\", \"Topic3\", \"Topic3\", \"Topic3\", \"Topic3\", \"Topic3\", \"Topic3\", \"Topic3\", \"Topic3\", \"Topic3\", \"Topic3\", \"Topic3\", \"Topic3\", \"Topic3\", \"Topic3\", \"Topic3\", \"Topic3\", \"Topic3\", \"Topic3\", \"Topic3\", \"Topic3\", \"Topic3\", \"Topic3\", \"Topic3\", \"Topic3\", \"Topic3\", \"Topic3\", \"Topic3\", \"Topic3\", \"Topic3\", \"Topic3\", \"Topic3\", \"Topic3\", \"Topic4\", \"Topic4\", \"Topic4\", \"Topic4\", \"Topic4\", \"Topic4\", \"Topic4\", \"Topic4\", \"Topic4\", \"Topic4\", \"Topic4\", \"Topic4\", \"Topic4\", \"Topic4\", \"Topic4\", \"Topic4\", \"Topic4\", \"Topic4\", \"Topic4\", \"Topic4\", \"Topic4\", \"Topic4\", \"Topic4\", \"Topic4\", \"Topic4\", \"Topic4\", \"Topic4\", \"Topic4\", \"Topic4\", \"Topic4\", \"Topic4\", \"Topic5\", \"Topic5\", \"Topic5\", \"Topic5\", \"Topic5\", \"Topic5\", \"Topic5\", \"Topic5\", \"Topic5\", \"Topic5\", \"Topic5\", \"Topic5\", \"Topic5\", \"Topic5\", \"Topic5\", \"Topic5\", \"Topic5\", \"Topic5\", \"Topic5\", \"Topic5\", \"Topic5\", \"Topic5\", \"Topic5\", \"Topic5\", \"Topic5\", \"Topic5\", \"Topic5\", \"Topic5\", \"Topic5\", \"Topic5\", \"Topic5\", \"Topic5\", \"Topic5\", \"Topic6\", \"Topic6\", \"Topic6\", \"Topic6\", \"Topic6\", \"Topic6\", \"Topic6\", \"Topic6\", \"Topic6\", \"Topic6\", \"Topic6\", \"Topic6\", \"Topic6\", \"Topic6\", \"Topic6\", \"Topic6\", \"Topic6\", \"Topic6\", \"Topic6\", \"Topic6\", \"Topic6\", \"Topic6\", \"Topic6\", \"Topic6\", \"Topic6\", \"Topic6\", \"Topic6\", \"Topic6\", \"Topic6\", \"Topic6\", \"Topic6\", \"Topic6\", \"Topic6\", \"Topic6\", \"Topic7\", \"Topic7\", \"Topic7\", \"Topic7\", \"Topic7\", \"Topic7\", \"Topic7\", \"Topic7\", \"Topic7\", \"Topic7\", \"Topic7\", \"Topic7\", \"Topic7\", \"Topic7\", \"Topic7\", \"Topic7\", \"Topic7\", \"Topic7\", \"Topic7\", \"Topic7\", \"Topic7\", \"Topic7\", \"Topic7\", \"Topic7\", \"Topic7\", \"Topic7\", \"Topic7\", \"Topic7\", \"Topic7\", \"Topic7\", \"Topic7\", \"Topic7\", \"Topic7\", \"Topic7\", \"Topic7\", \"Topic7\", \"Topic8\", \"Topic8\", \"Topic8\", \"Topic8\", \"Topic8\", \"Topic8\", \"Topic8\", \"Topic8\", \"Topic8\", \"Topic8\", \"Topic8\", \"Topic8\", \"Topic8\", \"Topic8\", \"Topic8\", \"Topic8\", \"Topic8\", \"Topic8\", \"Topic8\", \"Topic8\", \"Topic8\", \"Topic8\", \"Topic8\", \"Topic8\", \"Topic8\", \"Topic8\", \"Topic8\", \"Topic8\", \"Topic8\", \"Topic8\", \"Topic8\", \"Topic8\", \"Topic8\", \"Topic8\", \"Topic8\", \"Topic8\"], \"logprob\": [30.0, 29.0, 28.0, 27.0, 26.0, 25.0, 24.0, 23.0, 22.0, 21.0, 20.0, 19.0, 18.0, 17.0, 16.0, 15.0, 14.0, 13.0, 12.0, 11.0, 10.0, 9.0, 8.0, 7.0, 6.0, 5.0, 4.0, 3.0, 2.0, 1.0, -1.4408, -2.519, -2.5222, -3.2232, -3.43, -2.5602, -3.8598, -2.5076, -3.6791, -3.679, -3.6464, -4.0796, -3.963, -4.3617, -4.2104, -4.5397, -3.1721, -4.7571, -4.7569, -4.3617, -4.5395, -4.3614, -5.0349, -5.0343, -5.0344, -4.5396, -4.5397, -4.3609, -4.2097, -5.4192, -5.4187, -3.0217, -2.9578, -2.7363, -3.0217, -3.6435, -2.3328, -2.9577, -3.1636, -3.7747, -2.2686, -3.7744, -3.4637, -3.9257, -4.1906, -3.9255, -4.3208, -3.7741, -4.1033, -2.9572, -3.5266, -4.3201, -3.9249, -4.598, -4.5976, -4.9841, -4.4311, -3.3813, -4.3197, -3.9246, -4.791, -4.9813, -1.7182, -2.4918, -2.6849, -2.6159, -3.2369, -3.1213, -3.698, -3.0171, -2.4912, -3.9147, -3.0165, -3.6974, -3.9145, -3.6976, -3.519, -4.5773, -4.5771, -3.5186, -4.577, -3.696, -4.5764, -5.2132, -5.2131, -5.2132, -4.5758, -5.2124, -3.9124, -5.21, -5.212, -5.2118, -5.2065, -5.209, -5.2104, -2.0917, -2.9979, -1.9965, -2.5184, -3.6755, -3.6755, -2.3123, -3.6756, -3.4591, -3.4584, -3.9528, -3.9532, -3.9534, -3.6753, -3.9531, -3.4576, -4.3378, -3.1287, -3.2787, -4.3377, -3.953, -3.9526, -4.3373, -4.3373, -4.9732, -4.3378, -4.9724, -4.9723, -4.9709, -4.9731, -4.9706, -2.6296, -1.7777, -2.4369, -3.1823, -3.3142, -3.1827, -2.0537, -3.3137, -3.8606, -3.8599, -4.1373, -4.1374, -3.8593, -4.5227, -3.313, -4.5231, -4.5228, -3.8591, -4.522, -3.642, -4.5219, -4.1363, -5.1578, -4.5222, -3.3123, -5.1579, -4.5225, -4.5222, -3.8577, -5.1566, -4.5209, -5.1557, -5.1558, -2.1697, -2.601, -2.4363, -2.6947, -2.3624, -3.046, -2.2291, -2.2292, -4.2547, -3.8688, -4.2551, -4.2553, -3.8694, -4.2547, -4.2545, -4.2545, -4.2542, -4.2538, -4.2545, -4.8897, -3.5916, -4.254, -4.8904, -4.2536, -4.8906, -3.8676, -4.8867, -4.8857, -7.0717, -7.0724, -7.0534, -7.0672, -7.0073, -7.0228, -2.7619, -2.6822, -2.6828, -2.9421, -2.9421, -3.0464, -3.293, -3.8395, -3.2929, -3.1612, -2.54, -4.117, -3.0451, -3.2925, -4.1168, -3.8392, -3.6221, -3.8389, -4.1159, -4.5023, -3.1609, -3.0448, -3.6214, -5.1371, -5.1382, -5.1373, -5.1376, -5.1367, -5.1371, -5.1364, -4.1159, -4.4989, -5.1353, -5.1355, -5.1359, -5.136, -2.2207, -1.8937, -3.1536, -3.3048, -3.0219, -3.1536, -3.483, -2.5428, -3.4826, -3.7001, -3.0221, -3.4827, -3.6999, -3.6998, -4.3635, -3.1522, -3.698, -3.9769, -4.3614, -4.9977, -4.9966, -3.6986, -4.9983, -4.998, -4.3614, -4.9959, -4.9972, -4.997, -4.9966, -4.9959, -3.9739, -4.3579, -4.992, -4.9945, -4.9957, -4.9966], \"loglift\": [30.0, 29.0, 28.0, 27.0, 26.0, 25.0, 24.0, 23.0, 22.0, 21.0, 20.0, 19.0, 18.0, 17.0, 16.0, 15.0, 14.0, 13.0, 12.0, 11.0, 10.0, 9.0, 8.0, 7.0, 6.0, 5.0, 4.0, 3.0, 2.0, 1.0, 1.2105, 1.2017, 1.1796, 1.1434, 1.0501, 1.0156, 0.6266, 0.625, 0.591, 0.4577, 0.3869, 0.2711, 0.2345, 0.184, -0.0949, -0.2288, -0.2335, -0.3162, -0.3622, -0.3652, -0.4536, -0.4595, -0.5221, -0.5455, -0.6655, -0.6942, -0.8299, -0.9022, -1.0431, -1.2958, -1.527, 1.3473, 1.2397, 1.2055, 0.9748, 0.8453, 0.8338, 0.7522, 0.728, 0.7118, 0.6699, 0.6665, 0.5696, 0.4655, 0.2896, 0.19, 0.0739, 0.0713, 0.0201, 0.0159, -0.0678, -0.1069, -0.1737, -0.2315, -0.3275, -0.6731, -0.7294, -0.73, -0.7439, -0.792, -1.0703, -1.668, 1.5951, 1.4101, 1.3327, 1.2295, 1.074, 0.8932, 0.7908, 0.6927, 0.6755, 0.5262, 0.4422, 0.378, 0.2089, 0.1941, 0.0564, -0.1826, -0.307, -0.3859, -0.4615, -0.462, -0.5799, -0.7004, -0.7329, -0.7645, -0.8246, -0.8616, -0.9739, -0.9968, -1.0145, -1.1259, -2.2333, -1.6332, -1.2686, 1.6595, 1.1388, 0.942, 0.7949, 0.7191, 0.6753, 0.6609, 0.6353, 0.6268, 0.6265, 0.5337, 0.4877, 0.2598, 0.2266, 0.1928, 0.1178, 0.0945, 0.038, -0.0447, -0.2143, -0.2323, -0.2508, -0.3408, -0.3955, -0.4844, -0.4925, -0.5812, -0.8568, -0.9533, -0.9586, -1.3948, 1.4859, 1.4563, 1.4547, 1.3305, 1.1345, 0.9632, 0.9195, 0.7618, 0.5341, 0.2768, 0.2134, -0.1198, -0.1495, -0.1538, -0.1804, -0.2121, -0.2527, -0.2837, -0.4361, -0.4753, -0.5255, -0.5605, -0.6121, -0.6203, -0.661, -0.6691, -0.8019, -0.8204, -0.9192, -1.0332, -1.0621, -1.2138, -1.4046, 1.9151, 1.7902, 1.7769, 1.3198, 1.213, 1.0399, 0.9035, 0.7439, 0.194, 0.1488, 0.1395, 0.0147, -0.024, -0.1089, -0.1311, -0.179, -0.2209, -0.312, -0.3526, -0.4009, -0.425, -0.5027, -0.5214, -0.5438, -0.5796, -0.6336, -1.3109, -1.427, -2.526, -2.5596, -2.6212, -2.5807, -4.356, -4.0843, 1.7838, 1.4637, 1.4406, 1.1334, 0.9997, 0.9501, 0.7403, 0.6092, 0.4169, 0.4142, 0.3985, 0.2519, 0.1889, 0.1662, 0.02, 0.0062, -0.0463, -0.0876, -0.0983, -0.1358, -0.1877, -0.3935, -0.4888, -0.6484, -0.6581, -0.6964, -0.7429, -0.7454, -0.7864, -0.8663, -0.9492, -1.1856, -0.9221, -1.2336, -1.0511, -1.2443, 2.2116, 1.565, 1.3592, 1.1439, 0.9926, 0.9323, 0.8677, 0.6912, 0.5929, 0.5699, 0.5533, 0.5349, 0.4975, 0.3335, 0.0774, -0.1791, -0.3847, -0.4011, -0.4196, -0.452, -0.5101, -0.532, -0.6294, -0.6314, -0.6516, -0.7827, -0.8513, -0.8602, -0.8733, -1.1505, -1.3226, -1.4194, -1.8594, -1.2433, -1.2939, -1.2759]}, \"token.table\": {\"Topic\": [1, 2, 6, 7, 8, 1, 2, 4, 8, 1, 2, 3, 5, 6, 7, 8, 1, 2, 3, 8, 1, 2, 3, 4, 5, 6, 7, 8, 1, 2, 3, 4, 5, 6, 1, 2, 3, 4, 5, 1, 2, 3, 4, 5, 6, 7, 8, 2, 3, 4, 7, 8, 1, 2, 4, 5, 8, 1, 2, 3, 5, 6, 7, 8, 1, 2, 3, 7, 1, 2, 4, 5, 8, 1, 2, 5, 7, 8, 1, 4, 5, 7, 8, 1, 2, 3, 5, 7, 2, 3, 4, 6, 7, 8, 1, 2, 3, 4, 5, 6, 7, 8, 1, 3, 5, 6, 7, 8, 1, 2, 4, 5, 6, 7, 8, 1, 2, 3, 5, 6, 7, 8, 1, 2, 4, 6, 7, 1, 2, 3, 4, 5, 6, 7, 1, 2, 5, 7, 8, 1, 3, 5, 6, 7, 8, 1, 2, 3, 4, 5, 6, 7, 8, 2, 3, 4, 5, 6, 7, 8, 2, 3, 4, 6, 8, 1, 2, 4, 8, 1, 2, 3, 4, 5, 6, 7, 8, 1, 2, 3, 4, 5, 7, 8, 1, 2, 3, 4, 5, 7, 8, 1, 2, 7, 8, 1, 2, 5, 6, 7, 8, 1, 2, 3, 5, 8, 1, 2, 3, 4, 6, 7, 8, 1, 2, 3, 4, 5, 6, 7, 1, 2, 3, 4, 7, 8, 1, 2, 3, 5, 6, 7, 8, 1, 2, 3, 4, 5, 7, 1, 2, 3, 4, 5, 6, 8, 2, 3, 4, 5, 6, 7, 8, 2, 3, 4, 5, 6, 7, 8, 1, 2, 3, 4, 5, 6, 7, 1, 2, 4, 6, 7, 1, 2, 3, 4, 5, 6, 7, 8], \"Freq\": [0.3415413646073083, 0.24839371971440602, 0.09314764489290225, 0.1862952897858045, 0.12419685985720301, 0.4396281196681264, 0.2930854131120843, 0.19539027540805617, 0.048847568852014044, 0.441523283942387, 0.06307475484891242, 0.08830465678847739, 0.08830465678847739, 0.2522990193956497, 0.05045980387912994, 0.012614950969782485, 0.29270653152827575, 0.5122364301744826, 0.03658831644103447, 0.14635326576413787, 0.0679513087611849, 0.1359026175223698, 0.16987827190296223, 0.10192696314177735, 0.03397565438059245, 0.10192696314177735, 0.37373219818651693, 0.03397565438059245, 0.20492306267820634, 0.08196922507128254, 0.36886151282077145, 0.20492306267820634, 0.08196922507128254, 0.04098461253564127, 0.20225646797832783, 0.16854705664860653, 0.06741882265944261, 0.03370941132972131, 0.47193175861609826, 0.046835041731200844, 0.11708760432800211, 0.046835041731200844, 0.5854380216400106, 0.023417520865600422, 0.07025256259680127, 0.09367008346240169, 0.023417520865600422, 0.03022661759235294, 0.6347589694394118, 0.2418129407388235, 0.03022661759235294, 0.06045323518470588, 0.7577675083313558, 0.06686183897041374, 0.08914911862721832, 0.04457455931360916, 0.02228727965680458, 0.4327805978546425, 0.11803107214217523, 0.07868738142811682, 0.07868738142811682, 0.11803107214217523, 0.03934369071405841, 0.15737476285623364, 0.6795557831538604, 0.19415879518681725, 0.04853969879670431, 0.04853969879670431, 0.7722510588064837, 0.04542653287096963, 0.09085306574193926, 0.04542653287096963, 0.022713266435484814, 0.7873513885922672, 0.07016002472604362, 0.05456890812025614, 0.06236446642314988, 0.023386674908681203, 0.37876284158404405, 0.3443298559854946, 0.13773194239419784, 0.10329895679564836, 0.03443298559854946, 0.053895920731682874, 0.2964275640242558, 0.16168776219504863, 0.45811532621930445, 0.026947960365841437, 0.11150438695498671, 0.03716812898499557, 0.1486725159399823, 0.5946900637599292, 0.03716812898499557, 0.03716812898499557, 0.019641800025274197, 0.019641800025274197, 0.13749260017691936, 0.11785080015164517, 0.07856720010109679, 0.3339106004296613, 0.13749260017691936, 0.13749260017691936, 0.04704011036690239, 0.04704011036690239, 0.3292807725683167, 0.14112033110070718, 0.18816044146760957, 0.28224066220141436, 0.03474892499466727, 0.03474892499466727, 0.1389956999786691, 0.2779913999573382, 0.10424677498400182, 0.38223817494134005, 0.03474892499466727, 0.11233836410296422, 0.3145474194882998, 0.24714440102652127, 0.08987069128237136, 0.06740301846177853, 0.13480603692355705, 0.04493534564118568, 0.032690341552617776, 0.032690341552617776, 0.19614204931570664, 0.6864971726049732, 0.032690341552617776, 0.14688365816557092, 0.3427285357196655, 0.29376731633114184, 0.04896121938852364, 0.04896121938852364, 0.04896121938852364, 0.04896121938852364, 0.25913919613106545, 0.05182783922621309, 0.05182783922621309, 0.5182783922621309, 0.05182783922621309, 0.06477237051064827, 0.1943171115319448, 0.22670329678726894, 0.0971585557659724, 0.29147566729791724, 0.16193092627662067, 0.6484439920222325, 0.05894945382020295, 0.019649817940067652, 0.019649817940067652, 0.05894945382020295, 0.019649817940067652, 0.07859927176027061, 0.05894945382020295, 0.48168626995052516, 0.02833448646767795, 0.08500345940303385, 0.02833448646767795, 0.08500345940303385, 0.25501037820910155, 0.0566689729353559, 0.03046953024757618, 0.3046953024757618, 0.03046953024757618, 0.3656343629709142, 0.21328671173303326, 0.046270231401841146, 0.046270231401841146, 0.13881069420552344, 0.7403237024294583, 0.013960760830157676, 0.013960760830157676, 0.08376456498094606, 0.11168608664126141, 0.4607051073952033, 0.055843043320630704, 0.11168608664126141, 0.16752912996189212, 0.18701157752463513, 0.2805173662869527, 0.051947660423509755, 0.2805173662869527, 0.04155812833880781, 0.13506391710112536, 0.020779064169403904, 0.2985432414434538, 0.04264903449192197, 0.04264903449192197, 0.21324517245960983, 0.1279471034757659, 0.04264903449192197, 0.21324517245960983, 0.7366110542983189, 0.1299901860526445, 0.08666012403509633, 0.04333006201754817, 0.1302966607093647, 0.5646188630739136, 0.08686444047290978, 0.04343222023645489, 0.1302966607093647, 0.04343222023645489, 0.15045674626902067, 0.050152248756340216, 0.050152248756340216, 0.40121799005072173, 0.30091349253804134, 0.1286480669079729, 0.15437768028956747, 0.43740342748710787, 0.07718884014478374, 0.10291845352637832, 0.10291845352637832, 0.02572961338159458, 0.1782567236455667, 0.133692542734175, 0.08912836182278334, 0.22282090455695835, 0.1782567236455667, 0.133692542734175, 0.04456418091139167, 0.18668790720582734, 0.28003186080874104, 0.2333598840072842, 0.18668790720582734, 0.046671976801456835, 0.09334395360291367, 0.08739241665630884, 0.13982786665009414, 0.19226331664387944, 0.034956966662523535, 0.017478483331261768, 0.1048708999875706, 0.40200511661902066, 0.14962820544046723, 0.38903333414521485, 0.0598512821761869, 0.08977692326428034, 0.0598512821761869, 0.2394051287047476, 0.1636265187830032, 0.03272530375660064, 0.03272530375660064, 0.19635182253960382, 0.06545060751320128, 0.2945277338094057, 0.19635182253960382, 0.15057705664068824, 0.010755504045763446, 0.21511008091526893, 0.26888760114408616, 0.21511008091526893, 0.07528852832034412, 0.06453302427458067, 0.030564961750701728, 0.48903938801122765, 0.030564961750701728, 0.09169488525210519, 0.12225984700280691, 0.09169488525210519, 0.15282480875350865, 0.1361289153581991, 0.02722578307163982, 0.5172898783611566, 0.1361289153581991, 0.05445156614327964, 0.08167734921491945, 0.02722578307163982, 0.04441179390724972, 0.2220589695362486, 0.04441179390724972, 0.6217651147014961, 0.04441179390724972, 0.07831040108571599, 0.3262933378571499, 0.24798293677143396, 0.11746560162857397, 0.06525866757142999, 0.06525866757142999, 0.039155200542857996, 0.052206934057143994], \"Term\": [\"afd\", \"afd\", \"afd\", \"afd\", \"afd\", \"anyone\", \"anyone\", \"anyone\", \"anyone\", \"apd\", \"apd\", \"apd\", \"apd\", \"apd\", \"apd\", \"apd\", \"arrived\", \"arrived\", \"arrived\", \"arrived\", \"back\", \"back\", \"back\", \"back\", \"back\", \"back\", \"back\", \"back\", \"black\", \"black\", \"black\", \"black\", \"black\", \"black\", \"building\", \"building\", \"building\", \"building\", \"building\", \"cop\", \"cop\", \"cop\", \"cop\", \"cop\", \"cop\", \"cop\", \"cop\", \"cops\", \"cops\", \"cops\", \"cops\", \"cops\", \"dancing\", \"dancing\", \"dancing\", \"dancing\", \"dancing\", \"dancingdolphinfire\", \"dancingdolphinfire\", \"dancingdolphinfire\", \"dancingdolphinfire\", \"dancingdolphinfire\", \"dancingdolphinfire\", \"dancingdolphinfire\", \"department\", \"department\", \"department\", \"department\", \"dolphin\", \"dolphin\", \"dolphin\", \"dolphin\", \"dolphin\", \"fire\", \"fire\", \"fire\", \"fire\", \"fire\", \"gelato\", \"gelato\", \"gelato\", \"gelato\", \"gelato\", \"gelatogalore\", \"gelatogalore\", \"gelatogalore\", \"gelatogalore\", \"gelatogalore\", \"getting\", \"getting\", \"getting\", \"getting\", \"getting\", \"getting\", \"going\", \"going\", \"going\", \"going\", \"going\", \"going\", \"going\", \"going\", \"good\", \"good\", \"good\", \"good\", \"good\", \"good\", \"got\", \"got\", \"got\", \"got\", \"got\", \"got\", \"got\", \"guy\", \"guy\", \"guy\", \"guy\", \"guy\", \"guy\", \"guy\", \"help\", \"help\", \"help\", \"help\", \"help\", \"hit\", \"hit\", \"hit\", \"hit\", \"hit\", \"hit\", \"hit\", \"hostage\", \"hostage\", \"hostage\", \"hostage\", \"hostage\", \"hostages\", \"hostages\", \"hostages\", \"hostages\", \"hostages\", \"hostages\", \"kronosstar\", \"kronosstar\", \"kronosstar\", \"kronosstar\", \"kronosstar\", \"kronosstar\", \"kronosstar\", \"kronosstar\", \"like\", \"like\", \"like\", \"like\", \"like\", \"like\", \"like\", \"one\", \"one\", \"one\", \"one\", \"one\", \"park\", \"park\", \"park\", \"park\", \"people\", \"people\", \"people\", \"people\", \"people\", \"people\", \"people\", \"people\", \"police\", \"police\", \"police\", \"police\", \"police\", \"police\", \"police\", \"report\", \"report\", \"report\", \"report\", \"report\", \"report\", \"report\", \"residents\", \"residents\", \"residents\", \"residents\", \"scene\", \"scene\", \"scene\", \"scene\", \"scene\", \"scene\", \"see\", \"see\", \"see\", \"see\", \"see\", \"shooting\", \"shooting\", \"shooting\", \"shooting\", \"shooting\", \"shooting\", \"shooting\", \"shot\", \"shot\", \"shot\", \"shot\", \"shot\", \"shot\", \"shot\", \"someone\", \"someone\", \"someone\", \"someone\", \"someone\", \"someone\", \"standoff\", \"standoff\", \"standoff\", \"standoff\", \"standoff\", \"standoff\", \"standoff\", \"still\", \"still\", \"still\", \"still\", \"still\", \"still\", \"swat\", \"swat\", \"swat\", \"swat\", \"swat\", \"swat\", \"swat\", \"tag\", \"tag\", \"tag\", \"tag\", \"tag\", \"tag\", \"tag\", \"terrorists\", \"terrorists\", \"terrorists\", \"terrorists\", \"terrorists\", \"terrorists\", \"terrorists\", \"think\", \"think\", \"think\", \"think\", \"think\", \"think\", \"think\", \"time\", \"time\", \"time\", \"time\", \"time\", \"van\", \"van\", \"van\", \"van\", \"van\", \"van\", \"van\", \"van\"]}, \"R\": 30, \"lambda.step\": 0.01, \"plot.opts\": {\"xlab\": \"PC1\", \"ylab\": \"PC2\"}, \"topic.order\": [3, 7, 2, 4, 5, 8, 6, 1]};\n",
              "\n",
              "function LDAvis_load_lib(url, callback){\n",
              "  var s = document.createElement('script');\n",
              "  s.src = url;\n",
              "  s.async = true;\n",
              "  s.onreadystatechange = s.onload = callback;\n",
              "  s.onerror = function(){console.warn(\"failed to load library \" + url);};\n",
              "  document.getElementsByTagName(\"head\")[0].appendChild(s);\n",
              "}\n",
              "\n",
              "if(typeof(LDAvis) !== \"undefined\"){\n",
              "   // already loaded: just create the visualization\n",
              "   !function(LDAvis){\n",
              "       new LDAvis(\"#\" + \"ldavis_el1151396796633640487674175459\", ldavis_el1151396796633640487674175459_data);\n",
              "   }(LDAvis);\n",
              "}else if(typeof define === \"function\" && define.amd){\n",
              "   // require.js is available: use it to load d3/LDAvis\n",
              "   require.config({paths: {d3: \"https://d3js.org/d3.v5\"}});\n",
              "   require([\"d3\"], function(d3){\n",
              "      window.d3 = d3;\n",
              "      LDAvis_load_lib(\"https://cdn.jsdelivr.net/gh/bmabey/pyLDAvis@3.3.1/pyLDAvis/js/ldavis.v3.0.0.js\", function(){\n",
              "        new LDAvis(\"#\" + \"ldavis_el1151396796633640487674175459\", ldavis_el1151396796633640487674175459_data);\n",
              "      });\n",
              "    });\n",
              "}else{\n",
              "    // require.js not available: dynamically load d3 & LDAvis\n",
              "    LDAvis_load_lib(\"https://d3js.org/d3.v5.js\", function(){\n",
              "         LDAvis_load_lib(\"https://cdn.jsdelivr.net/gh/bmabey/pyLDAvis@3.3.1/pyLDAvis/js/ldavis.v3.0.0.js\", function(){\n",
              "                 new LDAvis(\"#\" + \"ldavis_el1151396796633640487674175459\", ldavis_el1151396796633640487674175459_data);\n",
              "            })\n",
              "         });\n",
              "}\n",
              "</script>"
            ],
            "text/plain": [
              "PreparedData(topic_coordinates=              x         y  topics  cluster       Freq\n",
              "topic                                                \n",
              "2     -0.248205 -0.001140       1        1  23.514298\n",
              "6     -0.076913 -0.085212       2        1  14.432851\n",
              "1      0.101945 -0.106583       3        1  12.908181\n",
              "3      0.064123 -0.099081       4        1  11.118792\n",
              "4     -0.015308  0.107954       5        1  10.640274\n",
              "7      0.157367  0.052785       6        1  10.075690\n",
              "5     -0.028562  0.030384       7        1   8.962085\n",
              "0      0.045552  0.100894       8        1   8.347830, topic_info=        Term        Freq       Total Category  logprob  loglift\n",
              "25      fire  128.000000  128.000000  Default  30.0000  30.0000\n",
              "12      cops   66.000000   66.000000  Default  29.0000  29.0000\n",
              "9     people   71.000000   71.000000  Default  28.0000  28.0000\n",
              "42       tag   92.000000   92.000000  Default  27.0000  27.0000\n",
              "43  standoff   57.000000   57.000000  Default  26.0000  26.0000\n",
              "..       ...         ...         ...      ...      ...      ...\n",
              "0     police    1.943344   96.250725   Topic8  -4.3579  -1.4194\n",
              "4        apd    1.030754   79.271018   Topic8  -4.9920  -1.8594\n",
              "32       cop    1.028174   42.703069   Topic8  -4.9945  -1.2433\n",
              "26   dancing    1.027009   44.868643   Topic8  -4.9957  -1.2939\n",
              "28   dolphin    1.026084   44.027133   Topic8  -4.9966  -1.2759\n",
              "\n",
              "[295 rows x 6 columns], token_table=      Topic      Freq Term\n",
              "term                      \n",
              "24        1  0.341541  afd\n",
              "24        2  0.248394  afd\n",
              "24        6  0.093148  afd\n",
              "24        7  0.186295  afd\n",
              "24        8  0.124197  afd\n",
              "...     ...       ...  ...\n",
              "40        4  0.117466  van\n",
              "40        5  0.065259  van\n",
              "40        6  0.065259  van\n",
              "40        7  0.039155  van\n",
              "40        8  0.052207  van\n",
              "\n",
              "[280 rows x 3 columns], R=30, lambda_step=0.01, plot_opts={'xlab': 'PC1', 'ylab': 'PC2'}, topic_order=[3, 7, 2, 4, 5, 8, 6, 1])"
            ]
          },
          "metadata": {
            "tags": []
          },
          "execution_count": 231
        }
      ]
    },
    {
      "cell_type": "code",
      "metadata": {
        "id": "hGWLiXhFIsly",
        "colab": {
          "base_uri": "https://localhost:8080/"
        },
        "outputId": "fbb8cef5-4980-4c45-a496-b10c5b811b84"
      },
      "source": [
        "ldamodel.print_topics(10, 10)"
      ],
      "execution_count": null,
      "outputs": [
        {
          "output_type": "execute_result",
          "data": {
            "text/plain": [
              "[(0,\n",
              "  '0.124*\"fire\" + 0.051*\"police\" + 0.045*\"kronosstar\" + 0.042*\"dancing\" + 0.041*\"dolphin\" + 0.030*\"afd\" + 0.022*\"dancingdolphinfire\" + 0.021*\"residents\" + 0.019*\"scene\" + 0.018*\"department\"'),\n",
              " (1,\n",
              "  '0.081*\"tag\" + 0.071*\"van\" + 0.059*\"people\" + 0.052*\"cops\" + 0.031*\"guy\" + 0.030*\"still\" + 0.029*\"think\" + 0.027*\"cop\" + 0.026*\"one\" + 0.023*\"got\"'),\n",
              " (2,\n",
              "  '0.061*\"standoff\" + 0.052*\"apd\" + 0.039*\"gelatogalore\" + 0.036*\"shooting\" + 0.035*\"like\" + 0.034*\"going\" + 0.032*\"terrorists\" + 0.026*\"swat\" + 0.026*\"police\" + 0.024*\"getting\"')]"
            ]
          },
          "metadata": {
            "tags": []
          },
          "execution_count": 120
        }
      ]
    },
    {
      "cell_type": "code",
      "metadata": {
        "id": "n-lWQzo3Isoh",
        "colab": {
          "base_uri": "https://localhost:8080/"
        },
        "outputId": "1373c562-d83e-4b21-b4f8-64289ac2fe0b"
      },
      "source": [
        "bow_vector = dictionary.doc2bow(word_tokenize('panopticon man woman surrended police two people left van think hostages'))\n",
        "lda_vector = ldamodel[bow_vector]\n",
        "print(lda_vector)\n",
        "print(ldamodel.print_topic(max(lda_vector, key=lambda item: item[1])[0]))"
      ],
      "execution_count": null,
      "outputs": [
        {
          "output_type": "stream",
          "text": [
            "[(0, 0.053543177), (1, 0.8914502), (2, 0.055006593)]\n",
            "0.081*\"tag\" + 0.071*\"van\" + 0.059*\"people\" + 0.052*\"cops\" + 0.031*\"guy\" + 0.030*\"still\" + 0.029*\"think\" + 0.027*\"cop\" + 0.026*\"one\" + 0.023*\"got\"\n"
          ],
          "name": "stdout"
        }
      ]
    },
    {
      "cell_type": "code",
      "metadata": {
        "id": "-AA4IPv79ZML"
      },
      "source": [
        "ldatopics = [[word for word, prob in topic] for topicid, topic in ldamodel.show_topics(25,formatted=False)]"
      ],
      "execution_count": null,
      "outputs": []
    },
    {
      "cell_type": "code",
      "metadata": {
        "id": "ju0ZjfL29ZR5"
      },
      "source": [
        "lda_coherence = CoherenceModel(topics=ldatopics, texts=msjs, dictionary=dictionary, window_size=30,coherence='c_npmi',topn=5).get_coherence_per_topic()"
      ],
      "execution_count": null,
      "outputs": []
    },
    {
      "cell_type": "code",
      "metadata": {
        "id": "mfAr0ljQ9ZUq"
      },
      "source": [
        "df_lda = pd.DataFrame([range(25),lda_coherence,ldatopics],index=['topic_id','coherence','topic']).transpose()"
      ],
      "execution_count": null,
      "outputs": []
    },
    {
      "cell_type": "code",
      "metadata": {
        "colab": {
          "base_uri": "https://localhost:8080/",
          "height": 141
        },
        "id": "lZx9gi9P94j5",
        "outputId": "c5f13351-d2e3-4fdc-a1a0-4c8d3d23f8e3"
      },
      "source": [
        "df_lda.sort_values(by='coherence',ascending=False)[:3]"
      ],
      "execution_count": null,
      "outputs": [
        {
          "output_type": "execute_result",
          "data": {
            "text/html": [
              "<div>\n",
              "<style scoped>\n",
              "    .dataframe tbody tr th:only-of-type {\n",
              "        vertical-align: middle;\n",
              "    }\n",
              "\n",
              "    .dataframe tbody tr th {\n",
              "        vertical-align: top;\n",
              "    }\n",
              "\n",
              "    .dataframe thead th {\n",
              "        text-align: right;\n",
              "    }\n",
              "</style>\n",
              "<table border=\"1\" class=\"dataframe\">\n",
              "  <thead>\n",
              "    <tr style=\"text-align: right;\">\n",
              "      <th></th>\n",
              "      <th>topic_id</th>\n",
              "      <th>coherence</th>\n",
              "      <th>topic</th>\n",
              "    </tr>\n",
              "  </thead>\n",
              "  <tbody>\n",
              "    <tr>\n",
              "      <th>0</th>\n",
              "      <td>0</td>\n",
              "      <td>0.161076</td>\n",
              "      <td>[fire, police, kronosstar, dancing, dolphin, afd, dancingdolphinfire, residents, scene, department]</td>\n",
              "    </tr>\n",
              "    <tr>\n",
              "      <th>2</th>\n",
              "      <td>2</td>\n",
              "      <td>0.022674</td>\n",
              "      <td>[standoff, apd, gelatogalore, shooting, like, going, terrorists, swat, police, getting]</td>\n",
              "    </tr>\n",
              "    <tr>\n",
              "      <th>1</th>\n",
              "      <td>1</td>\n",
              "      <td>0.021021</td>\n",
              "      <td>[tag, van, people, cops, guy, still, think, cop, one, got]</td>\n",
              "    </tr>\n",
              "  </tbody>\n",
              "</table>\n",
              "</div>"
            ],
            "text/plain": [
              "  topic_id  ...                                                                                                topic\n",
              "0        0  ...  [fire, police, kronosstar, dancing, dolphin, afd, dancingdolphinfire, residents, scene, department]\n",
              "2        2  ...              [standoff, apd, gelatogalore, shooting, like, going, terrorists, swat, police, getting]\n",
              "1        1  ...                                           [tag, van, people, cops, guy, still, think, cop, one, got]\n",
              "\n",
              "[3 rows x 3 columns]"
            ]
          },
          "metadata": {
            "tags": []
          },
          "execution_count": 150
        }
      ]
    },
    {
      "cell_type": "code",
      "metadata": {
        "colab": {
          "base_uri": "https://localhost:8080/",
          "height": 243
        },
        "id": "CNFwJ6rrL-Ww",
        "outputId": "94e215e1-78f9-481f-c814-3302842b8a07"
      },
      "source": [
        "df.head(3)"
      ],
      "execution_count": null,
      "outputs": [
        {
          "output_type": "execute_result",
          "data": {
            "text/html": [
              "<div>\n",
              "<style scoped>\n",
              "    .dataframe tbody tr th:only-of-type {\n",
              "        vertical-align: middle;\n",
              "    }\n",
              "\n",
              "    .dataframe tbody tr th {\n",
              "        vertical-align: top;\n",
              "    }\n",
              "\n",
              "    .dataframe thead th {\n",
              "        text-align: right;\n",
              "    }\n",
              "</style>\n",
              "<table border=\"1\" class=\"dataframe\">\n",
              "  <thead>\n",
              "    <tr style=\"text-align: right;\">\n",
              "      <th></th>\n",
              "      <th>type</th>\n",
              "      <th>date(yyyyMMddHHmmss)</th>\n",
              "      <th>author</th>\n",
              "      <th>message</th>\n",
              "      <th>latitude</th>\n",
              "      <th>longitude</th>\n",
              "      <th>location</th>\n",
              "      <th>date</th>\n",
              "      <th>dateYMDHM</th>\n",
              "      <th>message_clean</th>\n",
              "      <th>hashtags</th>\n",
              "      <th>mentions</th>\n",
              "      <th>rt</th>\n",
              "      <th>message_topic</th>\n",
              "    </tr>\n",
              "  </thead>\n",
              "  <tbody>\n",
              "    <tr>\n",
              "      <th>0</th>\n",
              "      <td>mbdata</td>\n",
              "      <td>20140123170000</td>\n",
              "      <td>POK</td>\n",
              "      <td>Follow us @POK-Kronos</td>\n",
              "      <td>NaN</td>\n",
              "      <td>NaN</td>\n",
              "      <td>NaN</td>\n",
              "      <td>2014-01-23 17:00:00</td>\n",
              "      <td>2014-01-23 17:00:00</td>\n",
              "      <td>follow us pok kronos</td>\n",
              "      <td>[]</td>\n",
              "      <td>[@POK-Kronos]</td>\n",
              "      <td>False</td>\n",
              "      <td>[(0, 0.33333334), (1, 0.33333334), (2, 0.33333334)]</td>\n",
              "    </tr>\n",
              "    <tr>\n",
              "      <th>1</th>\n",
              "      <td>mbdata</td>\n",
              "      <td>20140123170000</td>\n",
              "      <td>maha_Homeland</td>\n",
              "      <td>Don't miss a moment!  Follow our live coverage of the POK Rally in the Park!</td>\n",
              "      <td>NaN</td>\n",
              "      <td>NaN</td>\n",
              "      <td>NaN</td>\n",
              "      <td>2014-01-23 17:00:00</td>\n",
              "      <td>2014-01-23 17:00:00</td>\n",
              "      <td>miss moment follow live coverage pok rally park</td>\n",
              "      <td>[]</td>\n",
              "      <td>[]</td>\n",
              "      <td>False</td>\n",
              "      <td>[(0, 0.16673759), (1, 0.16671804), (2, 0.6665444)]</td>\n",
              "    </tr>\n",
              "    <tr>\n",
              "      <th>2</th>\n",
              "      <td>mbdata</td>\n",
              "      <td>20140123170000</td>\n",
              "      <td>Viktor-E</td>\n",
              "      <td>Come join us in the Park! Music tonight at Abila City Park!</td>\n",
              "      <td>NaN</td>\n",
              "      <td>NaN</td>\n",
              "      <td>NaN</td>\n",
              "      <td>2014-01-23 17:00:00</td>\n",
              "      <td>2014-01-23 17:00:00</td>\n",
              "      <td>come join us park music tonight abila city park</td>\n",
              "      <td>[]</td>\n",
              "      <td>[]</td>\n",
              "      <td>False</td>\n",
              "      <td>[(0, 0.066705845), (1, 0.066790394), (2, 0.8665037)]</td>\n",
              "    </tr>\n",
              "  </tbody>\n",
              "</table>\n",
              "</div>"
            ],
            "text/plain": [
              "     type  ...                                         message_topic\n",
              "0  mbdata  ...   [(0, 0.33333334), (1, 0.33333334), (2, 0.33333334)]\n",
              "1  mbdata  ...    [(0, 0.16673759), (1, 0.16671804), (2, 0.6665444)]\n",
              "2  mbdata  ...  [(0, 0.066705845), (1, 0.066790394), (2, 0.8665037)]\n",
              "\n",
              "[3 rows x 14 columns]"
            ]
          },
          "metadata": {
            "tags": []
          },
          "execution_count": 179
        }
      ]
    },
    {
      "cell_type": "code",
      "metadata": {
        "id": "iUS7LCJSL-jd"
      },
      "source": [
        ""
      ],
      "execution_count": null,
      "outputs": []
    },
    {
      "cell_type": "code",
      "metadata": {
        "id": "yVP7EbkEL-mp"
      },
      "source": [
        "df['message_topics'] = np.empty((len(df), 0)).tolist()\n",
        "df.loc[(df['type']=='mbdata'),['message_topics']] = ldamodel[df.loc[(df['type']=='mbdata'),'message_clean'].apply(word_tokenize).apply(dictionary.doc2bow)]"
      ],
      "execution_count": null,
      "outputs": []
    },
    {
      "cell_type": "code",
      "metadata": {
        "id": "WDAGY2kpttPz"
      },
      "source": [
        "from operator import itemgetter\n",
        "df.loc[df['type'] == 'mbdata','message_max_topic']= df.loc[df['type'] == 'mbdata','message_topics'].apply(lambda t: [max(t, key=itemgetter(1))[0]])\n",
        "df.loc[df['type'] == 'mbdata','message_max_topic_perc']= df.loc[df['type'] == 'mbdata','message_topics'].apply(lambda t: [max(t, key=itemgetter(1))[1]])"
      ],
      "execution_count": null,
      "outputs": []
    },
    {
      "cell_type": "code",
      "metadata": {
        "colab": {
          "base_uri": "https://localhost:8080/",
          "height": 184
        },
        "id": "ugKJO0kTw-7_",
        "outputId": "a0aea0e0-117e-45cf-e862-111b40b7917a"
      },
      "source": [
        "df.head(1)"
      ],
      "execution_count": null,
      "outputs": [
        {
          "output_type": "execute_result",
          "data": {
            "text/html": [
              "<div>\n",
              "<style scoped>\n",
              "    .dataframe tbody tr th:only-of-type {\n",
              "        vertical-align: middle;\n",
              "    }\n",
              "\n",
              "    .dataframe tbody tr th {\n",
              "        vertical-align: top;\n",
              "    }\n",
              "\n",
              "    .dataframe thead th {\n",
              "        text-align: right;\n",
              "    }\n",
              "</style>\n",
              "<table border=\"1\" class=\"dataframe\">\n",
              "  <thead>\n",
              "    <tr style=\"text-align: right;\">\n",
              "      <th></th>\n",
              "      <th>type</th>\n",
              "      <th>date(yyyyMMddHHmmss)</th>\n",
              "      <th>author</th>\n",
              "      <th>message</th>\n",
              "      <th>latitude</th>\n",
              "      <th>longitude</th>\n",
              "      <th>location</th>\n",
              "      <th>date</th>\n",
              "      <th>dateYMDHM</th>\n",
              "      <th>message_clean</th>\n",
              "      <th>hashtags</th>\n",
              "      <th>mentions</th>\n",
              "      <th>rt</th>\n",
              "      <th>message_topic</th>\n",
              "      <th>message_topics</th>\n",
              "      <th>message_max_topic</th>\n",
              "      <th>message_max_topic_perc</th>\n",
              "    </tr>\n",
              "  </thead>\n",
              "  <tbody>\n",
              "    <tr>\n",
              "      <th>0</th>\n",
              "      <td>mbdata</td>\n",
              "      <td>20140123170000</td>\n",
              "      <td>POK</td>\n",
              "      <td>Follow us @POK-Kronos</td>\n",
              "      <td>NaN</td>\n",
              "      <td>NaN</td>\n",
              "      <td>NaN</td>\n",
              "      <td>2014-01-23 17:00:00</td>\n",
              "      <td>2014-01-23 17:00:00</td>\n",
              "      <td>follow us pok kronos</td>\n",
              "      <td>[]</td>\n",
              "      <td>[@POK-Kronos]</td>\n",
              "      <td>False</td>\n",
              "      <td>[(0, 0.33333334), (1, 0.33333334), (2, 0.33333334)]</td>\n",
              "      <td>[(0, 0.33333334), (1, 0.33333334), (2, 0.33333334)]</td>\n",
              "      <td>[0]</td>\n",
              "      <td>[0.33333334]</td>\n",
              "    </tr>\n",
              "  </tbody>\n",
              "</table>\n",
              "</div>"
            ],
            "text/plain": [
              "     type  date(yyyyMMddHHmmss)  ... message_max_topic message_max_topic_perc\n",
              "0  mbdata        20140123170000  ...               [0]           [0.33333334]\n",
              "\n",
              "[1 rows x 17 columns]"
            ]
          },
          "metadata": {
            "tags": []
          },
          "execution_count": 183
        }
      ]
    },
    {
      "cell_type": "code",
      "metadata": {
        "id": "Q35l8TXVzjSo"
      },
      "source": [
        "df.to_csv('df_topics.csv')"
      ],
      "execution_count": null,
      "outputs": []
    }
  ]
}